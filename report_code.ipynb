{
 "cells": [
  {
   "cell_type": "code",
   "execution_count": 40,
   "metadata": {
    "collapsed": false
   },
   "outputs": [],
   "source": [
    "import numpy as np\n",
    "from implementations import *\n",
    "from general_helpers import *\n",
    "from proj1_helpers import *\n",
    "import matplotlib.pyplot as plt\n",
    "%matplotlib inline\n",
    "%reload_ext autoreload\n",
    "%autoreload 2"
   ]
  },
  {
   "cell_type": "markdown",
   "metadata": {},
   "source": [
    "# Load the data both from train and test csv file"
   ]
  },
  {
   "cell_type": "code",
   "execution_count": 7,
   "metadata": {
    "collapsed": false
   },
   "outputs": [],
   "source": [
    "y, x, ids = load_csv_data(\"train.csv\", sub_sample=False)\n",
    "_, x_submission, ids_submission = load_csv_data(\"test.csv\", sub_sample=False)\n",
    "\n",
    "y_small, x_small, ids_small = load_csv_data(\"train.csv\", sub_sample=True)"
   ]
  },
  {
   "cell_type": "markdown",
   "metadata": {},
   "source": [
    "# Test different ways of pre-processing data"
   ]
  },
  {
   "cell_type": "code",
   "execution_count": 8,
   "metadata": {
    "collapsed": false
   },
   "outputs": [
    {
     "name": "stdout",
     "output_type": "stream",
     "text": [
      "Here are the means of the columns containing -999 (not counting -999. for the mean calculation)\n",
      "\n",
      "0.0\n",
      "5.51397102408e-05\n",
      "6.8924637801e-05\n",
      "8.27095653612e-05\n",
      "0.000165419130722\n",
      "0.000153244451551\n",
      "0.000159907253793\n",
      "0.000166570056034\n",
      "0.000358408116565\n",
      "0.000372193044126\n",
      "0.000385977971686\n",
      "\n",
      "Note that these are all very close to zero.\n",
      "\n",
      "Here are a few orders of magnitude of the differences between the cleaned X-matrices:\n",
      "\n",
      "Set to 0 vs Replace by mean\n",
      "First by simply replacing by the mean, then by normally distributed values around the mean.\n",
      "These are actually so close to zero, and the values of the features so much bigger that\n",
      "we might as well simply set outliers to 0\n"
     ]
    },
    {
     "data": {
      "text/plain": [
       "(array([[  0.00000000e+00,   0.00000000e+00,   0.00000000e+00, ...,\n",
       "          -2.42266536e-04,  -2.79556436e-04,   0.00000000e+00],\n",
       "        [  0.00000000e+00,   0.00000000e+00,   0.00000000e+00, ...,\n",
       "           9.86765811e-05,   1.14432638e-04,   0.00000000e+00],\n",
       "        [  0.00000000e+00,   0.00000000e+00,   0.00000000e+00, ...,\n",
       "           9.86765811e-05,   1.14432638e-04,   0.00000000e+00],\n",
       "        ..., \n",
       "        [  0.00000000e+00,   0.00000000e+00,   0.00000000e+00, ...,\n",
       "           9.86765811e-05,   1.14432638e-04,   0.00000000e+00],\n",
       "        [  0.00000000e+00,   0.00000000e+00,   0.00000000e+00, ...,\n",
       "           9.86765811e-05,   1.14432638e-04,   0.00000000e+00],\n",
       "        [  0.00000000e+00,   0.00000000e+00,   0.00000000e+00, ...,\n",
       "           9.86765811e-05,   1.14432638e-04,   0.00000000e+00]]),\n",
       " array([[  1.11022302e-16,   4.16333634e-17,   1.11022302e-16, ...,\n",
       "           2.42266536e-04,   2.79556436e-04,   2.22044605e-16],\n",
       "        [  2.22044605e-16,   0.00000000e+00,   1.11022302e-16, ...,\n",
       "           9.86765811e-05,   1.14432638e-04,   2.22044605e-16],\n",
       "        [  4.44089210e-16,   0.00000000e+00,   2.22044605e-16, ...,\n",
       "           9.86765811e-05,   1.14432638e-04,   2.22044605e-16],\n",
       "        ..., \n",
       "        [  4.16333634e-17,   5.55111512e-17,   0.00000000e+00, ...,\n",
       "           9.86765811e-05,   1.14432638e-04,   2.22044605e-16],\n",
       "        [  0.00000000e+00,   0.00000000e+00,   0.00000000e+00, ...,\n",
       "           9.86765811e-05,   1.14432638e-04,   2.22044605e-16],\n",
       "        [  4.44089210e-16,   0.00000000e+00,   0.00000000e+00, ...,\n",
       "           9.86765811e-05,   1.14432638e-04,   2.22044605e-16]]))"
      ]
     },
     "execution_count": 8,
     "metadata": {},
     "output_type": "execute_result"
    }
   ],
   "source": [
    "x1 = np.copy(x) # make sure we don't modify the data\n",
    "compare(x1) "
   ]
  },
  {
   "cell_type": "code",
   "execution_count": 9,
   "metadata": {
    "collapsed": false
   },
   "outputs": [],
   "source": [
    "#Set values to zero and standardize (both data and subset of data)\n",
    "x[x==-999] = 0\n",
    "x = standardize_by_column(x)\n",
    "\n",
    "x_small[x_small==-999] = 0\n",
    "x_small = standardize_by_column(x_small)"
   ]
  },
  {
   "cell_type": "markdown",
   "metadata": {},
   "source": [
    "# Gradient Descent"
   ]
  },
  {
   "cell_type": "code",
   "execution_count": 20,
   "metadata": {
    "collapsed": false
   },
   "outputs": [
    {
     "name": "stdout",
     "output_type": "stream",
     "text": [
      "Correct answers:  67.256 % Execution time=0.6274950504302979 seconds\n"
     ]
    }
   ],
   "source": [
    "degree = 1\n",
    "ratio = 0.70  #train/test examples\n",
    " \n",
    "seed = 1\n",
    "dim_w = get_length_w(x,degree, False) #gets correct dimension of w to start\n",
    "initial_w, max_iters, gamma = np.zeros(dim_w), 20 , 0.000001\n",
    "#requires fine balance btw. iter/gamma - otherwise blows up\n",
    "\n",
    "\n",
    "w = GD_with_simple_splitting(y,x, degree, ratio, initial_w, max_iters, gamma, seed)\n",
    "#\"simple splitting=>no cross validation"
   ]
  },
  {
   "cell_type": "markdown",
   "metadata": {},
   "source": [
    "# Stochastic Gradient Descent"
   ]
  },
  {
   "cell_type": "code",
   "execution_count": 18,
   "metadata": {
    "collapsed": false
   },
   "outputs": [
    {
     "name": "stdout",
     "output_type": "stream",
     "text": [
      "Correct answers:  64.732 % Execution time=4.7787439823150635 seconds\n"
     ]
    }
   ],
   "source": [
    "degree = 1\n",
    "ratio = 0.70  #train/test examples\n",
    " \n",
    "seed = 1\n",
    "dim_w = get_length_w(x,degree, False)\n",
    "initial_w, max_iters, gamma = np.zeros(dim_w), 20 , 0.000001\n",
    "#requires fine balance btw. iter/gamma - otherwise blows up\n",
    "\n",
    "\n",
    "w = SGD_with_simple_splitting(y,x, degree, ratio, initial_w, max_iters, gamma, seed)"
   ]
  },
  {
   "cell_type": "markdown",
   "metadata": {},
   "source": [
    "# Least Squares"
   ]
  },
  {
   "cell_type": "code",
   "execution_count": 22,
   "metadata": {
    "collapsed": false
   },
   "outputs": [
    {
     "name": "stdout",
     "output_type": "stream",
     "text": [
      "Execution time=0.4962470531463623 seconds\n",
      "Correct answers:  81.564\n"
     ]
    }
   ],
   "source": [
    "degree = 11\n",
    "ratio = 0.70  #train/test examples\n",
    "seed = 1\n",
    "\n",
    "w = LS_with_simple_splitting(y,x, degree, ratio, seed)"
   ]
  },
  {
   "cell_type": "code",
   "execution_count": 23,
   "metadata": {
    "collapsed": false
   },
   "outputs": [
    {
     "data": {
      "image/png": "[encoded data removed]",
      "text/plain": [
       "<matplotlib.figure.Figure at 0x10e5d3ac8>"
      ]
     },
     "metadata": {},
     "output_type": "display_data"
    }
   ],
   "source": [
    "#Define values to perform Ridge regression with cross validation of the dataset for different degrees and plot it\n",
    "\n",
    "\n",
    "k_fold = 5 #define the number of folds\n",
    "degrees = list(range(1,20)) #define the degrees\n",
    "lambda_ = 1e-4 #define the lambdas\n",
    "seed = 145 #seed for the random splitting\n",
    "\n",
    "loss_train,loss_test,corr_train, corr_test = cross_validation_ridge_degree(y_small, x_small,\n",
    "                                                                           k_fold, degrees, lambda_, seed)\n",
    "\n",
    "#Makes a plot of accuracy vs degree. Allows us to conclude that degree 11 is the best trade-off:\n",
    "#a sufficiently rich model that does not overfit\n",
    "\n",
    "plt.figure()\n",
    "#plt.title(\"Correct answers (%) vs complexity for train and test set\")\n",
    "plt.xlabel(\"Complexity (degree)\")\n",
    "plt.ylabel(\"Correct answers (%)\")\n",
    "plt.plot(degrees, corr_train, 'b', label = \"Train set\")\n",
    "plt.hold(True)\n",
    "plt.plot(degrees, corr_test, 'r', label = \"Test set\")\n",
    "plt.xticks(range(1,20))\n",
    "plt.legend()\n",
    "plt.grid(True)\n",
    "plt.savefig(\"correct_complexity.png\", format='png', dpi=1000)\n",
    "plt.show()"
   ]
  },
  {
   "cell_type": "markdown",
   "metadata": {},
   "source": [
    "# Ridge Regression"
   ]
  },
  {
   "cell_type": "code",
   "execution_count": 24,
   "metadata": {
    "collapsed": false
   },
   "outputs": [
    {
     "name": "stdout",
     "output_type": "stream",
     "text": [
      "Correct answers:  82.636 % for lambda = 0.000000\n",
      "Correct answers:  82.6346666667 % for lambda = 0.000000\n",
      "Correct answers:  82.6346666667 % for lambda = 0.000000\n",
      "Correct answers:  82.6333333333 % for lambda = 0.000000\n",
      "Correct answers:  82.6413333333 % for lambda = 0.000001\n",
      "Correct answers:  82.6426666667 % for lambda = 0.000001\n",
      "Correct answers:  82.6453333333 % for lambda = 0.000002\n",
      "Correct answers:  82.6426666667 % for lambda = 0.000003\n",
      "Correct answers:  82.6373333333 % for lambda = 0.000005\n",
      "Correct answers:  82.6306666667 % for lambda = 0.000008\n",
      "Correct answers:  82.6373333333 % for lambda = 0.000013\n",
      "Correct answers:  82.6346666667 % for lambda = 0.000021\n",
      "Correct answers:  82.6306666667 % for lambda = 0.000034\n",
      "Correct answers:  82.6146666667 % for lambda = 0.000055\n",
      "Correct answers:  82.6013333333 % for lambda = 0.000089\n",
      "Correct answers:  82.588 % for lambda = 0.000144\n",
      "Correct answers:  82.564 % for lambda = 0.000234\n",
      "Correct answers:  82.5573333333 % for lambda = 0.000379\n",
      "Correct answers:  82.5266666667 % for lambda = 0.000616\n",
      "Correct answers:  82.548 % for lambda = 0.001000\n"
     ]
    },
    {
     "data": {
      "image/png": "[encoded data removed]",
      "text/plain": [
       "<matplotlib.figure.Figure at 0x10e5e0eb8>"
      ]
     },
     "metadata": {},
     "output_type": "display_data"
    }
   ],
   "source": [
    "degree = 11\n",
    "ratio = 0.70  #train/test examples\n",
    "#lambdas = np.logspace(-8,0.1,20) \n",
    "lambdas = np.logspace(-7,-3,20)\n",
    "\n",
    "seed = 1\n",
    "\n",
    "w = ridge_with_simple_splitting(y,x, degree, ratio, lambdas, seed)"
   ]
  },
  {
   "cell_type": "markdown",
   "metadata": {},
   "source": [
    "# Generalizing... Bayes Regression"
   ]
  },
  {
   "cell_type": "code",
   "execution_count": 49,
   "metadata": {
    "collapsed": false
   },
   "outputs": [
    {
     "name": "stdout",
     "output_type": "stream",
     "text": [
      "Correct answers:  82.632 % for lambda = 0.000000\n",
      "Correct answers:  82.632 % for lambda = 0.000000\n",
      "Correct answers:  82.6413333333 % for lambda = 0.000000\n",
      "Correct answers:  82.632 % for lambda = 0.000000\n",
      "Correct answers:  82.6333333333 % for lambda = 0.000001\n",
      "Correct answers:  82.6386666667 % for lambda = 0.000001\n",
      "Correct answers:  82.6453333333 % for lambda = 0.000002\n",
      "Correct answers:  82.648 % for lambda = 0.000003\n",
      "Correct answers:  82.636 % for lambda = 0.000005\n",
      "Correct answers:  82.6266666667 % for lambda = 0.000008\n",
      "Correct answers:  82.628 % for lambda = 0.000013\n",
      "Correct answers:  82.6213333333 % for lambda = 0.000021\n",
      "Correct answers:  82.6226666667 % for lambda = 0.000034\n",
      "Correct answers:  82.6293333333 % for lambda = 0.000055\n",
      "Correct answers:  82.6346666667 % for lambda = 0.000089\n",
      "Correct answers:  82.6146666667 % for lambda = 0.000144\n",
      "Correct answers:  82.6146666667 % for lambda = 0.000234\n",
      "Correct answers:  82.584 % for lambda = 0.000379\n",
      "Correct answers:  82.5653333333 % for lambda = 0.000616\n",
      "Correct answers:  82.544 % for lambda = 0.001000\n"
     ]
    },
    {
     "data": {
      "image/png": "[encoded data removed]",
      "text/plain": [
       "<matplotlib.figure.Figure at 0x1396b94e0>"
      ]
     },
     "metadata": {},
     "output_type": "display_data"
    }
   ],
   "source": [
    "# Interesting but does not really improve much over Ridge Regression\n",
    "\n",
    "degree = 11\n",
    "ratio = 0.70  #train/test examples\n",
    "#lambdas = np.logspace(-8,0.1,20) \n",
    "lambdas = np.logspace(-7,-3,20)\n",
    "\n",
    "q = 3 #Power of the norm of w\n",
    "\n",
    "seed = 1\n",
    "\n",
    "w = bayes_with_simple_splitting(y,x, degree, ratio, lambdas, q, seed)"
   ]
  },
  {
   "cell_type": "markdown",
   "metadata": {},
   "source": [
    "# Ridge Regression With Cross Validation"
   ]
  },
  {
   "cell_type": "code",
   "execution_count": 25,
   "metadata": {
    "collapsed": false
   },
   "outputs": [
    {
     "name": "stdout",
     "output_type": "stream",
     "text": [
      "\n",
      " k= 1 \n",
      "\n",
      "Correct answers:  82.6416 % for lambda = 0.000000\n",
      "Correct answers:  82.6512 % for lambda = 0.000000\n",
      "Correct answers:  82.64 % for lambda = 0.000001\n",
      "Correct answers:  82.6448 % for lambda = 0.000005\n",
      "Correct answers:  82.6352 % for lambda = 0.000017\n",
      "Correct answers:  82.632 % for lambda = 0.000060\n",
      "Correct answers:  82.6752 % for lambda = 0.000215\n",
      "Correct answers:  82.6672 % for lambda = 0.000774\n",
      "Correct answers:  82.576 % for lambda = 0.002783\n",
      "Correct answers:  82.3104 % for lambda = 0.010000\n",
      "\n",
      " k= 2 \n",
      "\n",
      "Correct answers:  82.9552 % for lambda = 0.000000\n",
      "Correct answers:  82.9568 % for lambda = 0.000000\n",
      "Correct answers:  82.9536 % for lambda = 0.000001\n",
      "Correct answers:  82.9568 % for lambda = 0.000005\n",
      "Correct answers:  82.9776 % for lambda = 0.000017\n",
      "Correct answers:  82.9696 % for lambda = 0.000060\n",
      "Correct answers:  82.9552 % for lambda = 0.000215\n",
      "Correct answers:  82.8864 % for lambda = 0.000774\n",
      "Correct answers:  82.7712 % for lambda = 0.002783\n",
      "Correct answers:  82.5056 % for lambda = 0.010000\n",
      "\n",
      " k= 3 \n",
      "\n",
      "Correct answers:  82.672 % for lambda = 0.000000\n",
      "Correct answers:  82.6816 % for lambda = 0.000000\n",
      "Correct answers:  82.6832 % for lambda = 0.000001\n",
      "Correct answers:  82.672 % for lambda = 0.000005\n",
      "Correct answers:  82.664 % for lambda = 0.000017\n",
      "Correct answers:  82.6864 % for lambda = 0.000060\n",
      "Correct answers:  82.6928 % for lambda = 0.000215\n",
      "Correct answers:  82.6976 % for lambda = 0.000774\n",
      "Correct answers:  82.5904 % for lambda = 0.002783\n",
      "Correct answers:  82.3504 % for lambda = 0.010000\n",
      "\n",
      " k= 4 \n",
      "\n",
      "Correct answers:  82.6336 % for lambda = 0.000000\n",
      "Correct answers:  82.648 % for lambda = 0.000000\n",
      "Correct answers:  82.6448 % for lambda = 0.000001\n",
      "Correct answers:  82.6416 % for lambda = 0.000005\n",
      "Correct answers:  82.6176 % for lambda = 0.000017\n",
      "Correct answers:  82.608 % for lambda = 0.000060\n",
      "Correct answers:  82.5712 % for lambda = 0.000215\n",
      "Correct answers:  82.5392 % for lambda = 0.000774\n",
      "Correct answers:  82.4816 % for lambda = 0.002783\n",
      "Correct answers:  82.3312 % for lambda = 0.010000\n"
     ]
    },
    {
     "data": {
      "text/plain": [
       "array([  3.87830192e-01,  -1.64802571e-01,  -2.52456415e-01,\n",
       "         1.01059462e-01,   2.79162136e-02,  -2.32915822e-02,\n",
       "         5.72580886e-03,  -7.22932803e-04,   5.06786793e-05,\n",
       "        -1.87447064e-06,   2.85528447e-08,  -2.28563842e-01,\n",
       "        -2.38223738e-03,   5.41237177e-02,   1.32449185e-03,\n",
       "        -6.82490855e-03,   1.70118656e-03,  -1.86699963e-04,\n",
       "         9.86339967e-06,  -1.74546267e-07,  -4.27293277e-09,\n",
       "         1.56715918e-10,   5.01427506e-02,  -2.14264547e-01,\n",
       "        -1.15166131e-01,   1.40998268e-01,  -4.60123768e-02,\n",
       "         7.46535029e-03,  -6.93776122e-04,   3.85688583e-05,\n",
       "        -1.26662874e-06,   2.26402027e-08,  -1.69621542e-10,\n",
       "         1.13057102e-01,   3.35630158e-02,  -2.17122172e-02,\n",
       "         1.42206361e-02,  -3.13963615e-03,   2.12765640e-04,\n",
       "         5.02017505e-06,  -4.75633848e-07,  -2.60785045e-08,\n",
       "        -2.63295892e-10,   5.30442213e-11,  -2.38133950e-02,\n",
       "        -4.81191802e-02,   3.32563292e-04,   3.97429972e-03,\n",
       "         1.43891243e-02,  -1.66529710e-03,  -1.25091227e-02,\n",
       "         7.49154377e-03,  -1.71014220e-03,   1.67717003e-04,\n",
       "        -5.51955206e-06,   1.10989705e-04,   2.44195375e-02,\n",
       "         2.80170118e-02,  -6.01040014e-03,  -4.66010005e-03,\n",
       "         2.21771449e-03,  -4.19010563e-04,   4.27116204e-05,\n",
       "        -2.46556590e-06,   7.59222137e-08,  -9.69838743e-10,\n",
       "        -1.43685477e-02,  -1.53355897e-02,  -2.34008696e-03,\n",
       "         4.49830022e-04,   2.95720013e-04,  -3.15576393e-05,\n",
       "        -8.05981761e-06,   7.52485370e-07,   8.07778036e-08,\n",
       "        -5.68685756e-09,  -2.36428718e-10,   1.11365440e-01,\n",
       "         4.11359822e-02,   6.34061225e-02,  -3.27691992e-02,\n",
       "         2.11233344e-03,   7.87148853e-03,  -5.96674525e-04,\n",
       "        -1.28053264e-03,   1.61861593e-04,   6.38046060e-05,\n",
       "        -1.06214249e-05,  -2.17928972e-02,  -6.36997241e-03,\n",
       "         1.56366426e-02,  -3.84113750e-03,   3.57862383e-04,\n",
       "        -1.40566746e-05,   1.74973470e-07,   9.97954968e-10,\n",
       "        -8.13291924e-12,   1.17807623e-13,  -7.77445046e-16,\n",
       "         8.63684437e-02,  -2.95952399e-02,   1.30577764e-02,\n",
       "         2.36058580e-02,  -2.14112144e-02,   7.63212511e-03,\n",
       "        -1.48291445e-03,   1.69332362e-04,  -1.13856105e-05,\n",
       "         4.22007560e-07,  -6.77227067e-09,  -1.05948782e-01,\n",
       "         5.44176312e-02,  -2.47218545e-02,   4.10314723e-03,\n",
       "        -1.58059406e-04,  -4.10781472e-06,  -5.14585763e-06,\n",
       "         1.08628405e-06,  -8.34088790e-08,   2.87555786e-09,\n",
       "        -3.74717376e-11,   3.90613602e-02,   1.49200213e-03,\n",
       "         2.45996581e-02,   7.61084171e-03,   2.04927607e-02,\n",
       "         8.28919340e-03,   1.63945223e-02,   4.86791279e-03,\n",
       "         7.25481360e-03,  -6.39413685e-03,  -1.39250631e-02,\n",
       "         2.95880049e-02,  -1.79309730e-02,   8.71134712e-03,\n",
       "        -1.21058208e-03,   3.06931133e-03,   3.63029630e-05,\n",
       "        -4.17075673e-05,  -1.24432881e-03,   8.71690317e-04,\n",
       "        -2.61963560e-04,   3.24296627e-05,   1.85379082e-01,\n",
       "        -6.02715241e-02,   2.05798051e-02,  -1.66224648e-02,\n",
       "         7.19579704e-03,  -1.55876838e-03,   1.88389775e-04,\n",
       "        -1.32798404e-05,   5.40377942e-07,  -1.17143315e-08,\n",
       "         1.04373391e-10,   6.00059069e-03,  -1.73330612e-02,\n",
       "        -4.39278129e-03,  -2.06793250e-02,  -2.12015458e-03,\n",
       "        -1.75192646e-02,   2.01839741e-03,   1.09986775e-02,\n",
       "        -1.81756596e-04,  -1.51909606e-03,  -3.94132783e-05,\n",
       "        -2.34515925e-03,  -1.21175560e-02,  -3.43014394e-03,\n",
       "        -2.58189900e-03,   1.96657596e-03,   3.32154786e-06,\n",
       "         4.94081958e-03,   4.11717468e-04,  -3.63353459e-03,\n",
       "         3.03655355e-05,   6.32432319e-04,   4.18346901e-02,\n",
       "        -7.37066017e-02,   7.01357061e-02,  -1.31854512e-02,\n",
       "        -6.37954512e-03,   3.39194585e-03,  -6.70972930e-04,\n",
       "         7.04165016e-05,  -4.13819529e-06,   1.28606146e-07,\n",
       "        -1.64695867e-09,  -1.75258318e-03,  -5.13625788e-02,\n",
       "         2.69371692e-03,  -2.48463238e-02,  -7.88645077e-04,\n",
       "        -3.00939439e-03,  -1.58140549e-03,   4.97431508e-03,\n",
       "         9.70067159e-04,  -7.99384147e-04,  -1.60598194e-04,\n",
       "        -6.40565438e-05,  -2.18330783e-02,   1.98708425e-03,\n",
       "        -3.98422865e-03,  -8.02781657e-04,   3.22711127e-03,\n",
       "        -3.00060861e-03,   1.15060670e-03,   2.33369884e-03,\n",
       "        -5.10808767e-04,  -4.56556576e-04,   1.65594308e-02,\n",
       "         9.61689745e-03,  -2.24161232e-02,   5.21195290e-03,\n",
       "        -5.22246423e-04,   2.50693868e-05,  -6.11843551e-07,\n",
       "         1.08701850e-08,  -1.65089665e-10,   7.71912033e-13,\n",
       "        -5.20659334e-14,   8.93122442e-04,  -1.26171356e-02,\n",
       "        -6.61532334e-04,  -7.65733527e-05,  -1.83510407e-03,\n",
       "         3.44095682e-03,  -2.12279178e-03,  -1.19987404e-03,\n",
       "         3.11322004e-03,   1.72307159e-05,  -7.62063770e-04,\n",
       "        -6.93487713e-03,  -3.68976077e-02,   2.40435524e-03,\n",
       "         1.54997026e-02,  -4.26810286e-03,  -9.64993191e-04,\n",
       "         6.81793717e-04,  -1.45039771e-04,   1.55918880e-05,\n",
       "        -8.61243414e-07,   1.94510294e-08,  -3.57345914e-02,\n",
       "         9.88262376e-03,  -3.47182615e-02,   9.07599139e-03,\n",
       "        -3.55727549e-02,   8.71099761e-03,  -3.53646161e-02,\n",
       "         1.07011393e-02,  -3.02815348e-02,   2.37851503e-02,\n",
       "        -3.47312063e-03,   5.32406842e-02,  -6.74842583e-03,\n",
       "        -1.72307644e-02,   6.63200225e-03,   4.67683708e-03,\n",
       "        -3.97164102e-03,   1.17672679e-03,  -1.78769398e-04,\n",
       "         1.48270132e-05,  -6.36973197e-07,   1.10736247e-08,\n",
       "        -3.68695801e-03,   2.56299712e-02,  -7.99238437e-04,\n",
       "         3.58315249e-02,   5.92778099e-04,  -9.23120220e-03,\n",
       "        -1.88057743e-05,   9.49393463e-04,  -1.08663009e-05,\n",
       "        -3.54734441e-05,   7.89268003e-07,  -3.19492856e-03,\n",
       "        -2.49106978e-02,  -1.43284456e-03,  -3.97261179e-03,\n",
       "         1.77890705e-03,   7.94767437e-03,  -6.19605496e-04,\n",
       "        -2.32188137e-03,   1.32008758e-04,   1.97345667e-04,\n",
       "        -1.19088251e-05,   4.63262902e-02,  -8.50775840e-03,\n",
       "         2.25447473e-02,  -3.78680893e-03,  -2.76476633e-03,\n",
       "         1.33364960e-03,  -2.54486458e-04,   2.59606490e-05,\n",
       "        -1.48330030e-06,   4.47042831e-08,  -5.52708033e-10,\n",
       "         2.85964025e-04,   1.43269549e-02,   2.73581615e-03,\n",
       "         1.25296918e-02,  -6.14997875e-04,  -2.27619871e-03,\n",
       "         6.80671410e-05,   1.63690648e-04,  -3.45687900e-06,\n",
       "        -4.06099629e-06,   5.83182459e-08,  -3.31312377e-03,\n",
       "        -1.27185769e-02,  -4.86605411e-03,  -7.47868532e-03,\n",
       "         3.76569763e-03,   3.48797976e-03,  -1.01756610e-03,\n",
       "        -4.80449238e-04,   1.14431783e-04,   2.17140806e-05,\n",
       "        -4.51900000e-06,   5.01503972e-02,  -3.75919862e-02,\n",
       "        -5.82067404e-03,   4.05595102e-03,   6.30351796e-03,\n",
       "        -3.62519185e-03,   8.78645088e-04,  -1.17563775e-04,\n",
       "         9.02626479e-06,  -3.72652343e-07,   6.41313310e-09,\n",
       "        -8.62779393e-02,   3.18774440e-03,   1.50033515e-02,\n",
       "         7.29208135e-02,   5.72407762e-03,  -6.25048131e-02,\n",
       "        -2.78364879e-02,   4.66818484e-03,   1.93437183e-02,\n",
       "         1.42275340e-02,   9.31472202e-03,  -1.30576033e-02,\n",
       "         3.24823679e-03,  -1.12023231e-02,   1.78293560e-02,\n",
       "         1.76373162e-02,   9.39151313e-03,  -8.39016710e-03,\n",
       "        -5.26696657e-03,  -1.36700882e-03,  -3.81414301e-02,\n",
       "        -7.27036149e-03,  -5.01045171e-02,  -1.52409072e-01,\n",
       "        -4.23152632e-02,   6.56511224e-02,   2.02026255e-02,\n",
       "         4.78482293e-03,  -3.23271306e-04,  -6.02162727e-03,\n",
       "         1.40980177e-02,   4.31900166e-03,   9.85201233e-03,\n",
       "        -1.94033581e-02,   1.15890610e-02,  -3.94286342e-03,\n",
       "        -1.81190410e-03,  -4.63969278e-03,  -1.44916597e-02,\n",
       "        -3.88329285e-03,   4.52236760e-03,  -6.65595248e-03,\n",
       "        -9.78773176e-03,   4.99800069e-03,   8.22667250e-03,\n",
       "         5.27334712e-03,  -7.55025619e-03,   2.18724512e-02,\n",
       "         5.82486754e-02,  -8.16476468e-03,   2.50638726e-03,\n",
       "         4.34100701e-03,  -3.48189290e-03,  -6.61314925e-02,\n",
       "        -5.96801081e-03,  -1.55718444e-02,   1.01866301e-02,\n",
       "         4.06109316e-02,   4.08299397e-03,   4.68423546e-02,\n",
       "        -1.33865662e-03,  -1.80639269e-02,  -7.52406645e-03,\n",
       "        -2.55446756e-02,  -2.95676479e-02,  -1.50515650e-02,\n",
       "        -2.05293370e-02,   4.84764235e-04,  -1.42612878e-02,\n",
       "        -1.81128263e-02,   9.69138777e-03,   7.28741503e-02,\n",
       "         1.53829049e-02,   6.67933702e-03,   3.00727069e-02,\n",
       "        -3.06528327e-03,  -9.16131397e-04,  -7.16611065e-03,\n",
       "         1.44463301e-02,  -1.49006796e-02,  -3.00063616e-02,\n",
       "        -1.01240964e-02,  -2.21297927e-02,  -4.13822906e-03,\n",
       "        -7.30718371e-03,   5.32026655e-03,  -6.08797627e-03,\n",
       "         3.36552111e-03,  -7.21627285e-03,  -4.27593336e-02,\n",
       "        -2.67252383e-02,   6.61504710e-03,  -3.98927246e-04,\n",
       "        -1.21681841e-03,   3.76359495e-04,   4.47989589e-03,\n",
       "        -7.01436308e-03,   5.16908597e-03,   3.06974835e-03,\n",
       "         2.72187938e-03,  -3.54122094e-03,  -2.81964491e-03,\n",
       "         3.66756268e-03,   8.24459206e-04,   1.61427591e-03,\n",
       "         6.52773136e-03,  -2.99974445e-03,  -4.16595051e-03,\n",
       "         6.57568093e-03,  -9.12248388e-03,   6.25869361e-03,\n",
       "        -3.20364106e-03,  -2.76290697e-04,  -4.57581373e-03,\n",
       "        -9.39627338e-04,  -1.76601879e-04,   2.12377047e-03,\n",
       "         9.61586747e-04,  -1.38863469e-03,  -3.26309482e-03,\n",
       "        -1.40751737e-03,  -2.70559956e-03,  -3.46304481e-02,\n",
       "        -2.71932093e-02,  -1.19597519e-02,   1.43091599e-03,\n",
       "        -1.68510130e-02,  -1.93422349e-03,  -4.47021334e-03,\n",
       "        -4.28931847e-03,  -6.05281648e-03,  -1.16959446e-02,\n",
       "         1.47061170e-02,   9.53528387e-03,   3.32374521e-02,\n",
       "        -2.59196174e-03,   2.73368938e-03,  -2.81252305e-03,\n",
       "        -3.08025187e-03,   4.65806355e-03,  -6.48579606e-03,\n",
       "        -3.03348083e-03,   5.78640946e-03,  -3.50108736e-04,\n",
       "        -2.78718741e-03,  -3.62754404e-03,   2.77069723e-03,\n",
       "        -6.94357757e-03,  -4.06387414e-03,  -7.66632795e-03,\n",
       "        -1.19506978e-02,   7.61735046e-02,   1.89233015e-03,\n",
       "         3.12232705e-03,  -1.34506174e-03,  -4.25621939e-04,\n",
       "        -1.78711756e-03,   9.15765712e-03,  -7.05890998e-03,\n",
       "         2.26836884e-04,  -4.60811573e-03,   5.73325574e-03,\n",
       "        -2.79241098e-03,  -2.34019624e-04,  -2.38006200e-03,\n",
       "        -6.33135690e-04,   2.52219076e-03,  -3.52857015e-03,\n",
       "         1.05660315e-03,   4.97323961e-03,   1.64952836e-03,\n",
       "        -1.20410030e-03,   2.28790164e-03,   1.25688532e-02,\n",
       "         4.76468922e-03,   2.17397502e-03,  -8.94641919e-03,\n",
       "        -1.12378366e-02,   7.62760636e-03,  -6.65369405e-02,\n",
       "        -1.73696693e-02,  -8.92805415e-04,   6.66368724e-03,\n",
       "         2.55314022e-02,  -3.82693637e-03,   4.16571469e-03,\n",
       "         1.29601789e-03,   4.36077241e-03,  -1.54175173e-02,\n",
       "        -6.98737715e-04,   1.67334093e-04,   7.26723049e-04,\n",
       "         3.80805830e-03,  -5.03962760e-04,  -6.04480788e-03,\n",
       "        -2.13686303e-03,  -2.21999407e-04,   3.46160038e-03,\n",
       "         3.06174473e-03,   2.05886623e-03,  -4.84264767e-04,\n",
       "        -1.51750234e-03,   4.05120358e-03,   5.58075789e-04,\n",
       "        -1.77974743e-04,   3.66530358e-03,   7.77392192e-03,\n",
       "        -1.34554135e-03,  -2.27306239e-03,   7.41491382e-03,\n",
       "        -6.15168421e-04,   2.48570257e-04,   8.17139076e-03,\n",
       "        -3.37110243e-03,   1.70875799e-02,  -2.17283363e-02,\n",
       "         1.42848489e-02,  -5.36118792e-04,   1.56385658e-02,\n",
       "        -1.97119993e-02,  -1.42138940e-03,  -5.02514743e-04,\n",
       "         3.28177018e-03,  -1.75592443e-02,  -4.63906085e-03,\n",
       "        -9.52369425e-05,   1.59510702e-03,   3.26444326e-04,\n",
       "         1.55065035e-03,   4.86143467e-03,  -1.49055426e-02,\n",
       "        -6.33199684e-04,   9.38999943e-03,   3.08934209e-03,\n",
       "         3.54277503e-02,   2.59898157e-02,  -4.90743112e-02,\n",
       "        -4.26561024e-04,  -3.00699508e-03,  -5.94421221e-02,\n",
       "         7.29178490e-03,  -1.29345350e-02,   1.95791328e-02,\n",
       "         1.09424564e-02,  -1.96873507e-03,  -6.61276834e-03,\n",
       "         3.56796270e-03,  -6.89215936e-04,   2.08257044e-03,\n",
       "         6.77982690e-04,   2.86445981e-03,   4.68904779e-03,\n",
       "         7.57807081e-03,  -4.02479473e-03,   2.35675726e-03,\n",
       "         1.67505212e-02,  -4.00038981e-03,   2.53544174e-02,\n",
       "         6.76267334e-03,   1.74108756e-02,  -3.26609645e-03,\n",
       "         2.24503887e-02,   5.66584028e-03,  -8.01734004e-03,\n",
       "         5.82418319e-03,   1.62742863e-02,   4.99768894e-04,\n",
       "         9.83243196e-03,  -8.90279881e-04,   1.19010894e-03,\n",
       "         2.00439504e-02,  -1.00832968e-03,  -1.83227702e-03,\n",
       "        -1.18641433e-02,   6.71415325e-03,  -2.03148927e-02,\n",
       "        -1.34483596e-02,  -1.68031055e-03,   1.42086658e-03,\n",
       "        -1.50356945e-03,   5.28196718e-04,   3.34917990e-03,\n",
       "         5.52856499e-03,   4.58977723e-03,   2.97383632e-03,\n",
       "        -3.54090634e-04,  -1.12727247e-03,  -6.96367528e-04,\n",
       "         3.03204121e-03,   3.51113670e-03,  -2.50287304e-03,\n",
       "        -1.43657817e-02,   1.94234167e-04,  -3.82942319e-04,\n",
       "        -5.70614224e-03,  -4.20140357e-03,  -1.54995772e-03,\n",
       "        -9.33612934e-05,   2.50180003e-03,  -2.23766571e-03,\n",
       "         7.25429473e-03,  -4.96356080e-05,  -3.80898585e-03,\n",
       "         1.91014184e-03,  -1.13358539e-02,   5.66945745e-03,\n",
       "        -4.41271686e-03,  -1.03120556e-03,  -8.38769837e-04,\n",
       "        -3.18298381e-03,   3.10394963e-03,  -3.49102121e-03,\n",
       "         2.02255779e-03,  -3.95023653e-03,  -1.15941729e-03,\n",
       "         8.86681198e-04,   5.37866352e-03,   3.48598634e-03,\n",
       "        -1.79323628e-03,  -2.34926670e-03,   7.67051747e-03,\n",
       "         8.35044957e-03,   8.35537432e-03,  -3.83733327e-04,\n",
       "        -3.26428272e-03,   7.49489016e-04,   1.07402050e-02,\n",
       "         8.53666522e-03,  -9.51902480e-03,   1.77255222e-02,\n",
       "        -9.55394909e-03,  -5.61572276e-03,  -1.24272700e-02,\n",
       "        -7.83581280e-03,  -7.14984206e-03,  -1.62308480e-02,\n",
       "         6.56780914e-03,  -8.23087635e-03,   1.21460343e-02,\n",
       "        -9.67172272e-04,   8.48572384e-04,   1.59382605e-03,\n",
       "        -7.22708273e-04,  -2.63437139e-03,  -6.29892011e-04,\n",
       "        -8.33760396e-03,  -3.98720749e-03,  -8.89567445e-05,\n",
       "        -1.13602570e-03,   1.22811402e-03,  -3.59464602e-03,\n",
       "        -2.88372529e-03,  -1.03102563e-03,   2.90150778e-03,\n",
       "         4.35602799e-03,   9.32247363e-03,  -2.94681539e-03,\n",
       "         2.38654674e-03,  -2.35392023e-03,  -1.06578575e-04,\n",
       "        -8.37559718e-04,   2.98846512e-03,  -5.56079838e-03,\n",
       "        -6.76265566e-04,   1.65729716e-03,  -5.15077144e-03,\n",
       "         9.82622897e-03,   9.89411992e-04,  -1.89667210e-04,\n",
       "        -1.68083537e-03,  -1.78199978e-03,  -4.19244718e-03,\n",
       "        -2.05020613e-03,   1.16097572e-03,  -4.46037053e-04,\n",
       "        -6.42867099e-03,  -5.09016281e-03,   2.96630313e-03,\n",
       "        -4.29493308e-03,   1.46570107e-03,  -1.22116771e-03,\n",
       "         5.06469182e-03,  -8.09491802e-03,  -3.62941005e-03,\n",
       "        -1.25675220e-03,  -3.20250999e-03,  -6.89907410e-03,\n",
       "         1.53169938e-03,  -3.44758440e-03,   1.81783540e-03,\n",
       "        -1.64497278e-04,  -9.14726660e-05,   1.37738353e-03,\n",
       "         1.35726592e-03,   3.06273468e-03,  -4.63688209e-04,\n",
       "        -1.82411481e-03,  -1.44007316e-03,   2.93397794e-03,\n",
       "         1.37588323e-03,   2.98856777e-03,   4.61409193e-03,\n",
       "         3.78712066e-03,  -1.52420502e-03,   2.73022325e-03,\n",
       "         2.55494871e-03,   2.61376918e-04,  -1.45769032e-03,\n",
       "        -2.45206186e-03,   3.84695742e-03,   1.30936956e-02,\n",
       "        -7.23484777e-03,  -6.08887784e-03,   5.11956940e-03,\n",
       "         1.21084310e-02,   6.41855188e-03,  -3.19220577e-02,\n",
       "        -5.97397385e-03,  -1.49661776e-02,  -4.74028205e-03,\n",
       "        -2.21403052e-03,  -4.23838219e-03,  -7.78722176e-05,\n",
       "         1.84420758e-03,   5.29982718e-03,   1.59394386e-04,\n",
       "         1.45330174e-03,  -2.28057676e-04,  -7.00377867e-04,\n",
       "        -1.42226199e-02,  -1.62192049e-02,  -6.72019443e-04,\n",
       "         3.14406482e-03,  -1.87714104e-02,   4.74868382e-03,\n",
       "        -4.28104641e-03])"
      ]
     },
     "execution_count": 25,
     "metadata": {},
     "output_type": "execute_result"
    }
   ],
   "source": [
    "degree = 11\n",
    "lambdas = np.logspace(-7,-2,10)\n",
    "k_fold = 4\n",
    "seed = 1\n",
    "\n",
    "cross_validation_ridge(y, x, k_fold, degree, lambdas, seed)"
   ]
  },
  {
   "cell_type": "markdown",
   "metadata": {},
   "source": [
    "# Logistic Regression"
   ]
  },
  {
   "cell_type": "code",
   "execution_count": 26,
   "metadata": {
    "collapsed": false
   },
   "outputs": [
    {
     "name": "stderr",
     "output_type": "stream",
     "text": [
      "/Users/Francisco/Documents/Physics/EPFL/Machine Learning/project_1_final/project_1_final/project_1_final-master/implementations_helpers.py:40: RuntimeWarning: overflow encountered in exp\n",
      "  return sum(np.log(1+np.exp(np.dot(tx,w))) - y*np.dot(tx,w))\n",
      "/Users/Francisco/Documents/Physics/EPFL/Machine Learning/project_1_final/project_1_final/project_1_final-master/implementations_helpers.py:36: RuntimeWarning: overflow encountered in exp\n",
      "  return 1/ (1 + np.exp(-t) ) #np.exp(t)/(1+np.exp(t))\n",
      "/Users/Francisco/Documents/Physics/EPFL/Machine Learning/project_1_final/project_1_final/project_1_final-master/implementations.py:107: RuntimeWarning: invalid value encountered in double_scalars\n",
      "  if iter_ > 1 and np.abs(loss - previousloss) < threshold:\n"
     ]
    },
    {
     "name": "stdout",
     "output_type": "stream",
     "text": [
      "Correct answers:  71.0693333333 %\n"
     ]
    },
    {
     "data": {
      "text/plain": [
       "array([  1.43527652e+07,  -3.56460556e+07,  -5.11968645e+06,\n",
       "         8.98847355e+06,   5.06757853e+06,   6.39531343e+06,\n",
       "        -5.85289818e+06,   1.18735787e+07,  -3.68936091e+06,\n",
       "         1.57923621e+06,  -1.60300554e+07,   2.08289717e+07,\n",
       "         6.77927388e+06,   1.23143374e+07,  -3.21771752e+04,\n",
       "        -3.52869796e+05,  -2.52704054e+06,   1.21783254e+05,\n",
       "         1.30378046e+05,  -6.04136881e+06,   3.04894572e+05,\n",
       "         6.46186267e+05,   3.51772592e+05,   4.57704918e+06,\n",
       "        -5.08931856e+04,   1.90699845e+04,  -2.83991326e+06,\n",
       "        -1.86246419e+03,  -1.80258885e+04,  -3.82625926e+05,\n",
       "        -8.02454102e+07])"
      ]
     },
     "execution_count": 26,
     "metadata": {},
     "output_type": "execute_result"
    }
   ],
   "source": [
    "degree = 1\n",
    "ratio = 0.70 \n",
    "dim_w = get_length_w(x,degree, False)\n",
    "initial_w, max_iters, gamma = np.zeros(dim_w), 1000 , 1.\n",
    "logistic_with_simple_splitting(y,x, degree, ratio, initial_w, max_iters, gamma, seed = 1)"
   ]
  },
  {
   "cell_type": "code",
   "execution_count": 28,
   "metadata": {
    "collapsed": false
   },
   "outputs": [
    {
     "name": "stderr",
     "output_type": "stream",
     "text": [
      "/Users/Francisco/Documents/Physics/EPFL/Machine Learning/project_1_final/project_1_final/project_1_final-master/implementations_helpers.py:40: RuntimeWarning: overflow encountered in exp\n",
      "  return sum(np.log(1+np.exp(np.dot(tx,w))) - y*np.dot(tx,w))\n",
      "/Users/Francisco/Documents/Physics/EPFL/Machine Learning/project_1_final/project_1_final/project_1_final-master/implementations_helpers.py:36: RuntimeWarning: overflow encountered in exp\n",
      "  return 1/ (1 + np.exp(-t) ) #np.exp(t)/(1+np.exp(t))\n",
      "/Users/Francisco/Documents/Physics/EPFL/Machine Learning/project_1_final/project_1_final/project_1_final-master/implementations.py:138: RuntimeWarning: invalid value encountered in double_scalars\n",
      "  if iter_ > 1 and np.abs(loss - previousloss) < threshold:\n"
     ]
    },
    {
     "name": "stdout",
     "output_type": "stream",
     "text": [
      "Correct answers:  71.0693333333 % for lambda = 0.000000\n",
      "Correct answers:  71.0693333333 % for lambda = 0.000001\n",
      "Correct answers:  71.0693333333 % for lambda = 0.000010\n",
      "Correct answers:  71.0693333333 % for lambda = 0.000100\n",
      "Correct answers:  71.0706666667 % for lambda = 0.001000\n"
     ]
    },
    {
     "data": {
      "text/plain": [
       "array([  9.07259368e+06,  -2.25298398e+07,  -3.23788714e+06,\n",
       "         5.68211802e+06,   3.20322109e+06,   4.04138803e+06,\n",
       "        -3.69902503e+06,   7.50603620e+06,  -2.33132034e+06,\n",
       "         9.98125250e+05,  -1.01317060e+07,   1.31638899e+07,\n",
       "         4.28456160e+06,   7.78279918e+06,  -1.99697553e+04,\n",
       "        -2.23283201e+05,  -1.59649054e+06,   7.70150898e+04,\n",
       "         8.21257181e+04,  -3.81906454e+06,   1.92776892e+05,\n",
       "         4.08287795e+05,   2.22895392e+05,   2.89323757e+06,\n",
       "        -3.23523353e+04,   1.16290001e+04,  -1.79495387e+06,\n",
       "        -1.22519489e+03,  -1.15536747e+04,  -2.41929378e+05,\n",
       "        -5.07181467e+07])"
      ]
     },
     "execution_count": 28,
     "metadata": {},
     "output_type": "execute_result"
    }
   ],
   "source": [
    "#Regularized Logistic Regression\n",
    "degree = 1\n",
    "ratio = 0.7\n",
    "dim_w = get_length_w(x,degree, False)\n",
    "initial_w, max_iters, gamma = np.zeros(dim_w), 1000 , 1.\n",
    "lambdas = np.logspace(-7,-3,5)\n",
    "reg_logistic_with_simple_splitting(y,x, 1, ratio, initial_w, max_iters, gamma, lambdas, seed = 1)"
   ]
  },
  {
   "cell_type": "code",
   "execution_count": 35,
   "metadata": {
    "collapsed": false
   },
   "outputs": [
    {
     "name": "stdout",
     "output_type": "stream",
     "text": [
      "\n",
      " k= 1 \n",
      "\n"
     ]
    },
    {
     "name": "stderr",
     "output_type": "stream",
     "text": [
      "/Users/Francisco/Documents/Physics/EPFL/Machine Learning/project_1_final/project_1_final/project_1_final-master/implementations_helpers.py:40: RuntimeWarning: overflow encountered in exp\n",
      "  return sum(np.log(1+np.exp(np.dot(tx,w))) - y*np.dot(tx,w))\n",
      "/Users/Francisco/Documents/Physics/EPFL/Machine Learning/project_1_final/project_1_final/project_1_final-master/implementations_helpers.py:36: RuntimeWarning: overflow encountered in exp\n",
      "  return 1/ (1 + np.exp(-t) ) #np.exp(t)/(1+np.exp(t))\n",
      "/Users/Francisco/Documents/Physics/EPFL/Machine Learning/project_1_final/project_1_final/project_1_final-master/implementations.py:138: RuntimeWarning: invalid value encountered in double_scalars\n",
      "  if iter_ > 1 and np.abs(loss - previousloss) < threshold:\n"
     ]
    },
    {
     "name": "stdout",
     "output_type": "stream",
     "text": [
      "Correct answers:  71.2736 % for lambda = 0.000000\n",
      "Correct answers:  71.2736 % for lambda = 0.000001\n",
      "Correct answers:  71.2736 % for lambda = 0.000010\n",
      "Correct answers:  71.2728 % for lambda = 0.000100\n",
      "Correct answers:  71.2728 % for lambda = 0.001000\n",
      "\n",
      " k= 2 \n",
      "\n",
      "Correct answers:  71.1152 % for lambda = 0.000000\n",
      "Correct answers:  71.1152 % for lambda = 0.000001\n",
      "Correct answers:  71.1152 % for lambda = 0.000010\n",
      "Correct answers:  71.1152 % for lambda = 0.000100\n",
      "Correct answers:  71.1152 % for lambda = 0.001000\n"
     ]
    },
    {
     "data": {
      "text/plain": [
       "array([  6.43975648e+06,  -1.60540544e+07,  -2.27587168e+06,\n",
       "         4.03389136e+06,   2.34845882e+06,   2.88231961e+06,\n",
       "        -2.70454199e+06,   5.49340839e+06,  -1.62343266e+06,\n",
       "         7.50982700e+05,  -7.25484877e+06,   9.39408550e+06,\n",
       "         3.09013342e+06,   5.54605063e+06,  -8.01580056e+04,\n",
       "        -1.85511995e+05,  -1.13933069e+06,   8.02339419e+04,\n",
       "         3.21884416e+04,  -2.71767931e+06,   1.11040481e+05,\n",
       "         3.58252032e+05,   2.59467801e+05,   2.06561242e+06,\n",
       "         5.55168998e+03,   4.16029492e+04,  -1.22120725e+06,\n",
       "         5.54419542e+04,  -7.73466584e+04,  -1.25142004e+05,\n",
       "        -3.62394560e+07])"
      ]
     },
     "execution_count": 35,
     "metadata": {},
     "output_type": "execute_result"
    }
   ],
   "source": [
    "#(Reg.) Logistic Regression With Cross Validation\n",
    "\n",
    "k_fold = 2 #define the number of folds\n",
    "degree = 1 #define the degree\n",
    "dim_w = get_length_w(x,degree, False)\n",
    "initial_w, max_iters, gamma = np.zeros(dim_w), 1000 , 1.\n",
    "lambdas = np.logspace(-7,-3,5) #define the lambdas\n",
    "seed = 1 #seed for the random splitting\n",
    "\n",
    "cross_validation_logistic(y, x, initial_w, max_iters, gamma, k_fold, degree, lambdas, seed)"
   ]
  },
  {
   "cell_type": "markdown",
   "metadata": {},
   "source": [
    "# Histogram comparing all methods"
   ]
  },
  {
   "cell_type": "code",
   "execution_count": 36,
   "metadata": {
    "collapsed": false
   },
   "outputs": [
    {
     "data": {
      "image/png": "[encoded data removed]",
      "text/plain": [
       "<matplotlib.figure.Figure at 0x10547d4e0>"
      ]
     },
     "metadata": {},
     "output_type": "display_data"
    }
   ],
   "source": [
    "correct_perc = [67.256, 64.732, 81.564, 82.9776, 71.0693333333, 71.0706666667]\n",
    "methods = range(len(correct_perc))\n",
    "plt.figure(figsize=(6,2))\n",
    "plt.xticks(methods, [\"Gradient\\nDescent\", \"SGD\",\"Least\\nSquares\", \"Ridge\",\"Logistic\", \"Reg.\\nlogistic\"],rotation=55, fontsize=10)\n",
    "plt.bar(methods, correct_perc, color = 'cornflowerblue')\n",
    "plt.ylim(60,85)\n",
    "plt.ylabel(\"Correct answers (%)\")\n",
    "plt.gcf().subplots_adjust(bottom=.4)\n",
    "plt.savefig(\"methods_bars.eps\", format = \"eps\", dpi=1000)"
   ]
  }
 ],
 "metadata": {
  "kernelspec": {
   "display_name": "Python 3",
   "language": "python",
   "name": "python3"
  },
  "language_info": {
   "codemirror_mode": {
    "name": "ipython",
    "version": 3
   },
   "file_extension": ".py",
   "mimetype": "text/x-python",
   "name": "python",
   "nbconvert_exporter": "python",
   "pygments_lexer": "ipython3",
   "version": "3.4.4"
  },
  "widgets": {
   "state": {},
   "version": "1.1.2"
  }
 },
 "nbformat": 4,
 "nbformat_minor": 2
}
