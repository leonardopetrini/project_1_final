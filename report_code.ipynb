{
 "cells": [
  {
   "cell_type": "code",
   "execution_count": 95,
   "metadata": {
    "collapsed": false
   },
   "outputs": [],
   "source": [
    "import numpy as np\n",
    "from implementations import *\n",
    "from general_helpers import *\n",
    "from proj1_helpers import *\n",
    "import matplotlib.pyplot as plt\n",
    "%matplotlib inline\n",
    "%reload_ext autoreload\n",
    "%autoreload 2"
   ]
  },
  {
   "cell_type": "code",
   "execution_count": 96,
   "metadata": {
    "collapsed": false
   },
   "outputs": [],
   "source": [
    "'''Load the data both from train and test csv file'''\n",
    "\n",
    "y, x, ids = load_csv_data(\"train.csv\", sub_sample=False)\n",
    "_, x_submission, ids_submission = load_csv_data(\"test.csv\", sub_sample=False)\n",
    "\n",
    "y_small, x_small, ids_small = load_csv_data(\"train.csv\", sub_sample=True)"
   ]
  },
  {
   "cell_type": "code",
   "execution_count": 23,
   "metadata": {
    "collapsed": false
   },
   "outputs": [
    {
     "name": "stdout",
     "output_type": "stream",
     "text": [
      "Here are the means of the columns containing -999 (not counting -999. for the mean calculation)\n",
      "\n",
      "0.0\n",
      "5.51397102408e-05\n",
      "6.8924637801e-05\n",
      "8.27095653612e-05\n",
      "0.000165419130722\n",
      "0.000153244451551\n",
      "0.000159907253793\n",
      "0.000166570056034\n",
      "0.000358408116565\n",
      "0.000372193044126\n",
      "0.000385977971686\n",
      "\n",
      "Note that these are all very close to zero.\n",
      "\n",
      "Here are a few orders of magnitude of the differences between the cleaned X-matrices:\n",
      "\n",
      "Set to 0 vs Replace by mean\n",
      "First by simply replacing by the mean, then by normally distributed values around the mean.\n",
      "These are actually so close to zero, and the values of the features so much bigger that\n",
      "we might as well simply set outliers to 0\n"
     ]
    },
    {
     "data": {
      "text/plain": [
       "(array([[  0.00000000e+00,   0.00000000e+00,   0.00000000e+00, ...,\n",
       "          -2.42266536e-04,  -2.79556436e-04,   0.00000000e+00],\n",
       "        [  0.00000000e+00,   0.00000000e+00,   0.00000000e+00, ...,\n",
       "           9.86765811e-05,   1.14432638e-04,   0.00000000e+00],\n",
       "        [  0.00000000e+00,   0.00000000e+00,   0.00000000e+00, ...,\n",
       "           9.86765811e-05,   1.14432638e-04,   0.00000000e+00],\n",
       "        ..., \n",
       "        [  0.00000000e+00,   0.00000000e+00,   0.00000000e+00, ...,\n",
       "           9.86765811e-05,   1.14432638e-04,   0.00000000e+00],\n",
       "        [  0.00000000e+00,   0.00000000e+00,   0.00000000e+00, ...,\n",
       "           9.86765811e-05,   1.14432638e-04,   0.00000000e+00],\n",
       "        [  0.00000000e+00,   0.00000000e+00,   0.00000000e+00, ...,\n",
       "           9.86765811e-05,   1.14432638e-04,   0.00000000e+00]]),\n",
       " array([[  1.11022302e-16,   4.16333634e-17,   1.11022302e-16, ...,\n",
       "           2.42266536e-04,   2.79556436e-04,   2.22044605e-16],\n",
       "        [  2.22044605e-16,   0.00000000e+00,   1.11022302e-16, ...,\n",
       "           9.86765811e-05,   1.14432638e-04,   2.22044605e-16],\n",
       "        [  4.44089210e-16,   0.00000000e+00,   2.22044605e-16, ...,\n",
       "           9.86765811e-05,   1.14432638e-04,   2.22044605e-16],\n",
       "        ..., \n",
       "        [  4.16333634e-17,   5.55111512e-17,   0.00000000e+00, ...,\n",
       "           9.86765811e-05,   1.14432638e-04,   2.22044605e-16],\n",
       "        [  0.00000000e+00,   0.00000000e+00,   0.00000000e+00, ...,\n",
       "           9.86765811e-05,   1.14432638e-04,   2.22044605e-16],\n",
       "        [  4.44089210e-16,   0.00000000e+00,   0.00000000e+00, ...,\n",
       "           9.86765811e-05,   1.14432638e-04,   2.22044605e-16]]))"
      ]
     },
     "execution_count": 23,
     "metadata": {},
     "output_type": "execute_result"
    }
   ],
   "source": [
    "'''Test different ways of \"cleaning\" data'''\n",
    "x1 = np.copy(x)\n",
    "compare(x1)"
   ]
  },
  {
   "cell_type": "code",
   "execution_count": 98,
   "metadata": {
    "collapsed": false
   },
   "outputs": [],
   "source": [
    "#Set values to zero and standardize\n",
    "x[x==-999] = 0\n",
    "x = standardize_by_column(x)\n",
    "\n",
    "x_small[x_small==-999] = 0\n",
    "x_small = standardize_by_column(x_small)"
   ]
  },
  {
   "cell_type": "code",
   "execution_count": 53,
   "metadata": {
    "collapsed": false
   },
   "outputs": [
    {
     "name": "stdout",
     "output_type": "stream",
     "text": [
      "Correct answers:  70.4773333333 % Execution time=4.647702932357788 seconds\n"
     ]
    }
   ],
   "source": [
    "'''Peforming Gradient Descent'''\n",
    "\n",
    "degree = 1\n",
    "ratio = 0.70  #train/test examples\n",
    " \n",
    "seed = 1\n",
    "dim_w = get_length_w(x,degree)\n",
    "initial_w, max_iters, gamma = np.zeros(dim_w), 20 , 0.000001#requires fine balance btw. iter/gamma - otherwise blows up\n",
    "\n",
    "\n",
    "w = GD_with_simple_splitting(y,x, degree, ratio, initial_w, max_iters, gamma, seed)#\"simple splitting=>no cross validation"
   ]
  },
  {
   "cell_type": "code",
   "execution_count": 54,
   "metadata": {
    "collapsed": false
   },
   "outputs": [
    {
     "name": "stdout",
     "output_type": "stream",
     "text": [
      "Correct answers:  64.8573333333 % Execution time=23.852055072784424 seconds\n"
     ]
    }
   ],
   "source": [
    "'''Performing SGD'''#Execution time is longer!!!\n",
    "\n",
    "degree = 1\n",
    "ratio = 0.70  #train/test examples\n",
    " \n",
    "seed = 1\n",
    "dim_w = get_length_w(x,degree)\n",
    "initial_w, max_iters, gamma = np.zeros(dim_w), 20 , 0.000001#requires fine balance btw. iter/gamma - otherwise blows up\n",
    "\n",
    "\n",
    "w = SGD_with_simple_splitting(y,x, degree, ratio, initial_w, max_iters, gamma, seed)"
   ]
  },
  {
   "cell_type": "code",
   "execution_count": 55,
   "metadata": {
    "collapsed": false
   },
   "outputs": [
    {
     "name": "stdout",
     "output_type": "stream",
     "text": [
      "Execution time=2.6984059810638428 seconds\n",
      "Correct answers:  80.6426666667\n"
     ]
    }
   ],
   "source": [
    "'''Least Squares'''\n",
    "\n",
    "degree = 11\n",
    "ratio = 0.70  #train/test examples\n",
    "seed = 1\n",
    "\n",
    "w = LS_with_simple_splitting(y,x, degree, ratio, seed)"
   ]
  },
  {
   "cell_type": "code",
   "execution_count": null,
   "metadata": {
    "collapsed": true
   },
   "outputs": [],
   "source": [
    "'''Define values to perform Ridge regression with cross validation of the dataset for different degrees and plot it'''\n",
    "\n",
    "'''Load the data both from train and test csv file'''\n",
    "\n",
    "k_fold = 5 #define the number of folds\n",
    "degrees = list(range(1,20)) #define the degrees\n",
    "lambda_ = 1e-4 #define the lambdas\n",
    "seed = 145 #seed for the random splitting\n",
    "\n",
    "loss_train,loss_test,corr_train, corr_test = cross_validation_ridge_degree(y_small, x_small,\n",
    "                                                                           k_fold, degrees, lambda_, seed)\n",
    "\n",
    "plt.figure()\n",
    "#plt.title(\"Correct answers (%) vs complexity for train and test set\")\n",
    "plt.xlabel(\"Complexity (degree)\")\n",
    "plt.ylabel(\"Correct answers (%)\")\n",
    "plt.plot(degrees, corr_train, 'b', label = \"Train set\")\n",
    "plt.hold(True)\n",
    "plt.plot(degrees, corr_test, 'r', label = \"Test set\")\n",
    "plt.xticks(range(1,20))\n",
    "plt.legend()\n",
    "plt.grid(True)\n",
    "plt.savefig(\"correct_complexity.png\", format='png', dpi=1000)\n",
    "plt.show()"
   ]
  },
  {
   "cell_type": "code",
   "execution_count": 62,
   "metadata": {
    "collapsed": false
   },
   "outputs": [
    {
     "name": "stdout",
     "output_type": "stream",
     "text": [
      "Correct answers:  82.6333333333 % for lambda = 0.000000\n",
      "Correct answers:  82.6306666667 % for lambda = 0.000000\n",
      "Correct answers:  82.6306666667 % for lambda = 0.000000\n",
      "Correct answers:  82.6333333333 % for lambda = 0.000000\n",
      "Correct answers:  82.6226666667 % for lambda = 0.000001\n",
      "Correct answers:  82.6373333333 % for lambda = 0.000001\n",
      "Correct answers:  82.6346666667 % for lambda = 0.000002\n",
      "Correct answers:  82.6413333333 % for lambda = 0.000003\n",
      "Correct answers:  82.6493333333 % for lambda = 0.000005\n",
      "Correct answers:  82.6586666667 % for lambda = 0.000008\n",
      "Correct answers:  82.6493333333 % for lambda = 0.000013\n",
      "Correct answers:  82.664 % for lambda = 0.000021\n",
      "Correct answers:  82.6866666667 % for lambda = 0.000034\n",
      "Correct answers:  82.66 % for lambda = 0.000055\n",
      "Correct answers:  82.6773333333 % for lambda = 0.000089\n",
      "Correct answers:  82.676 % for lambda = 0.000144\n",
      "Correct answers:  82.664 % for lambda = 0.000234\n",
      "Correct answers:  82.6546666667 % for lambda = 0.000379\n",
      "Correct answers:  82.66 % for lambda = 0.000616\n",
      "Correct answers:  82.6386666667 % for lambda = 0.001000\n"
     ]
    },
    {
     "data": {
      "image/png": "[encoded data removed]",
      "text/plain": [
       "<matplotlib.figure.Figure at 0x148162048>"
      ]
     },
     "metadata": {},
     "output_type": "display_data"
    }
   ],
   "source": [
    "'''Ridge Regression'''\n",
    "degree = 11\n",
    "ratio = 0.70  #train/test examples\n",
    "#lambdas = np.logspace(-8,0.1,20) \n",
    "lambdas = np.logspace(-7,-3,20)\n",
    "\n",
    "seed = 1\n",
    "\n",
    "w = ridge_with_simple_splitting(y,x, degree, ratio, lambdas, seed)"
   ]
  },
  {
   "cell_type": "code",
   "execution_count": 69,
   "metadata": {
    "collapsed": false
   },
   "outputs": [
    {
     "name": "stdout",
     "output_type": "stream",
     "text": [
      "\n",
      " k= 1 \n",
      "\n",
      "Correct answers:  82.5392 % for lambda = 0.000000\n",
      "Correct answers:  82.568 % for lambda = 0.000000\n",
      "Correct answers:  82.5648 % for lambda = 0.000001\n",
      "Correct answers:  82.5728 % for lambda = 0.000005\n",
      "Correct answers:  82.5536 % for lambda = 0.000017\n",
      "Correct answers:  82.5344 % for lambda = 0.000060\n",
      "Correct answers:  82.4992 % for lambda = 0.000215\n",
      "Correct answers:  82.5088 % for lambda = 0.000774\n",
      "Correct answers:  82.5456 % for lambda = 0.002783\n",
      "Correct answers:  82.2704 % for lambda = 0.010000\n",
      "\n",
      " k= 2 \n",
      "\n",
      "Correct answers:  82.9616 % for lambda = 0.000000\n",
      "Correct answers:  82.9424 % for lambda = 0.000000\n",
      "Correct answers:  82.9584 % for lambda = 0.000001\n",
      "Correct answers:  82.9728 % for lambda = 0.000005\n",
      "Correct answers:  82.9616 % for lambda = 0.000017\n",
      "Correct answers:  82.9584 % for lambda = 0.000060\n",
      "Correct answers:  82.9472 % for lambda = 0.000215\n",
      "Correct answers:  82.896 % for lambda = 0.000774\n",
      "Correct answers:  82.7712 % for lambda = 0.002783\n",
      "Correct answers:  82.5024 % for lambda = 0.010000\n",
      "\n",
      " k= 3 \n",
      "\n",
      "Correct answers:  82.6832 % for lambda = 0.000000\n",
      "Correct answers:  82.68 % for lambda = 0.000000\n",
      "Correct answers:  82.6768 % for lambda = 0.000001\n",
      "Correct answers:  82.6736 % for lambda = 0.000005\n",
      "Correct answers:  82.656 % for lambda = 0.000017\n",
      "Correct answers:  82.6896 % for lambda = 0.000060\n",
      "Correct answers:  82.6896 % for lambda = 0.000215\n",
      "Correct answers:  82.7056 % for lambda = 0.000774\n",
      "Correct answers:  82.5904 % for lambda = 0.002783\n",
      "Correct answers:  82.3456 % for lambda = 0.010000\n",
      "\n",
      " k= 4 \n",
      "\n",
      "Correct answers:  82.6208 % for lambda = 0.000000\n",
      "Correct answers:  82.6304 % for lambda = 0.000000\n",
      "Correct answers:  82.6352 % for lambda = 0.000001\n",
      "Correct answers:  82.6336 % for lambda = 0.000005\n",
      "Correct answers:  82.6336 % for lambda = 0.000017\n",
      "Correct answers:  82.608 % for lambda = 0.000060\n",
      "Correct answers:  82.5952 % for lambda = 0.000215\n",
      "Correct answers:  82.592 % for lambda = 0.000774\n",
      "Correct answers:  82.528 % for lambda = 0.002783\n",
      "Correct answers:  82.3296 % for lambda = 0.010000\n"
     ]
    },
    {
     "data": {
      "text/plain": [
       "array([  3.92291496e-01,  -1.54643557e-01,  -2.96457980e-01,\n",
       "         1.12301366e-01,   3.99263093e-02,  -3.10639315e-02,\n",
       "         7.67852364e-03,  -9.81967865e-04,   6.97919345e-05,\n",
       "        -2.61586867e-06,   4.03393962e-08,  -2.28303523e-01,\n",
       "        -1.10915314e-03,   5.31831932e-02,   1.06913957e-03,\n",
       "        -6.32358755e-03,   1.49655585e-03,  -1.46913329e-04,\n",
       "         5.63779543e-06,   7.60597798e-08,  -1.20595485e-08,\n",
       "         2.55442186e-10,   5.36699526e-02,  -2.07389747e-01,\n",
       "        -1.13424693e-01,   1.36783594e-01,  -4.43966169e-02,\n",
       "         7.17751302e-03,  -6.65271900e-04,   3.69098442e-05,\n",
       "        -1.21024394e-06,   2.16054512e-08,  -1.61707020e-10,\n",
       "         1.13778576e-01,   3.46668057e-02,  -2.10355110e-02,\n",
       "         1.31701582e-02,  -2.64721563e-03,   9.75705329e-05,\n",
       "         1.94938966e-05,  -1.42663843e-06,  -1.23773815e-10,\n",
       "         1.65452567e-11,   2.62514302e-11,  -2.30920137e-02,\n",
       "        -4.79143617e-02,   7.03827679e-04,   3.61910214e-03,\n",
       "         1.34725143e-02,  -2.14120046e-03,  -1.05555332e-02,\n",
       "         6.12407955e-03,  -1.28687936e-03,   1.05448830e-04,\n",
       "        -1.96713754e-06,   5.94031122e-04,   2.39607171e-02,\n",
       "         2.80664699e-02,  -5.10662382e-03,  -5.29510130e-03,\n",
       "         2.41024749e-03,  -4.50932927e-04,   4.58091707e-05,\n",
       "        -2.64095716e-06,   8.12868681e-08,  -1.03828384e-09,\n",
       "        -1.44267896e-02,  -1.53196376e-02,  -2.41766185e-03,\n",
       "         4.69095159e-04,   3.04492212e-04,  -3.36655632e-05,\n",
       "        -8.31710132e-06,   8.23482118e-07,   8.14805707e-08,\n",
       "        -6.39659596e-09,  -2.07903243e-10,   1.13498022e-01,\n",
       "         4.06811593e-02,   6.43194732e-02,  -3.32320126e-02,\n",
       "         1.91752817e-03,   8.25270775e-03,  -6.19750916e-04,\n",
       "        -1.35299912e-03,   1.69600101e-04,   6.91947837e-05,\n",
       "        -1.15274824e-05,  -1.98210429e-02,  -3.78717567e-03,\n",
       "         1.23213449e-02,  -2.85900863e-03,   2.41595166e-04,\n",
       "        -8.09200940e-06,   6.16582973e-08,   1.09927649e-09,\n",
       "        -3.07087681e-12,   1.28314991e-14,   9.29549820e-17,\n",
       "         8.70598556e-02,  -2.91303970e-02,   1.21900386e-02,\n",
       "         2.45513847e-02,  -2.24406253e-02,   8.11802853e-03,\n",
       "        -1.60372340e-03,   1.86799681e-04,  -1.28755544e-05,\n",
       "         4.91888595e-07,  -8.16455876e-09,  -1.07269657e-01,\n",
       "         5.48153680e-02,  -2.58717601e-02,   6.64000972e-03,\n",
       "        -1.40423609e-03,   2.73141127e-04,  -3.85973779e-05,\n",
       "         3.41504155e-06,  -1.76852188e-07,   4.88399852e-09,\n",
       "        -5.54094459e-11,   4.00927928e-02,   1.83473906e-03,\n",
       "         2.48061012e-02,   7.72765508e-03,   2.04087275e-02,\n",
       "         8.19688016e-03,   1.62291596e-02,   4.64558195e-03,\n",
       "         7.20118125e-03,  -6.61277398e-03,  -1.36420261e-02,\n",
       "         2.99728743e-02,  -1.80399023e-02,   8.75252284e-03,\n",
       "        -1.40696425e-03,   2.77615639e-03,  -2.88720119e-04,\n",
       "        -7.43004550e-05,  -2.82580049e-05,  -1.88385204e-04,\n",
       "         7.51646165e-05,  -4.99564356e-06,   1.85713296e-01,\n",
       "        -6.17433910e-02,   1.80468963e-02,  -1.27028407e-02,\n",
       "         5.47262872e-03,  -1.18911902e-03,   1.43775204e-04,\n",
       "        -1.01042575e-05,   4.08349922e-07,  -8.75409244e-09,\n",
       "         7.67698510e-11,   6.03537000e-03,  -1.75582027e-02,\n",
       "        -4.35854935e-03,  -2.06618204e-02,  -2.14992414e-03,\n",
       "        -1.73730863e-02,   1.93280883e-03,   1.09261674e-02,\n",
       "        -1.19634879e-04,  -1.50947217e-03,  -4.94755070e-05,\n",
       "        -2.43137432e-03,  -1.22891611e-02,  -3.37250965e-03,\n",
       "        -2.64792953e-03,   2.03666456e-03,  -1.30173307e-05,\n",
       "         4.97473050e-03,   4.78609870e-04,  -3.69391922e-03,\n",
       "         1.21052892e-05,   6.45924605e-04,   4.39270709e-02,\n",
       "        -5.83915717e-02,   6.71649318e-02,  -3.08205418e-02,\n",
       "         6.58423542e-03,  -5.95253990e-04,  -9.51260971e-06,\n",
       "         6.75496890e-06,  -5.83693837e-07,   2.18180635e-08,\n",
       "        -3.12200338e-10,  -1.77239625e-03,  -5.15371765e-02,\n",
       "         2.76619254e-03,  -2.48855423e-02,  -7.68073685e-04,\n",
       "        -2.96176821e-03,  -1.62494841e-03,   4.97389056e-03,\n",
       "         9.84310025e-04,  -8.01899060e-04,  -1.61891827e-04,\n",
       "        -5.45787647e-05,  -2.21072659e-02,   2.00017980e-03,\n",
       "        -4.08128269e-03,  -8.03006669e-04,   3.20043367e-03,\n",
       "        -3.01555615e-03,   1.23810846e-03,   2.32549119e-03,\n",
       "        -5.31772060e-04,  -4.51510875e-04,   1.94901459e-02,\n",
       "         1.10004001e-02,  -2.36324397e-02,   5.20619717e-03,\n",
       "        -4.37869750e-04,   1.11989548e-05,   2.09012175e-07,\n",
       "        -5.79460974e-09,  -1.33458839e-10,  -1.11683756e-12,\n",
       "        -1.98926799e-14,   7.76880564e-04,  -1.28356307e-02,\n",
       "        -6.68757290e-04,  -7.31107285e-05,  -1.82821471e-03,\n",
       "         3.48755170e-03,  -2.12107608e-03,  -1.22815540e-03,\n",
       "         3.12149574e-03,   2.26399705e-05,  -7.64800173e-04,\n",
       "        -6.36933158e-03,  -3.65756338e-02,   2.49015906e-03,\n",
       "         1.51722988e-02,  -4.31211012e-03,  -8.06136242e-04,\n",
       "         6.12628311e-04,  -1.31545441e-04,   1.42510383e-05,\n",
       "        -7.95926594e-07,   1.82345811e-08,  -3.60432291e-02,\n",
       "         1.00929089e-02,  -3.50032866e-02,   9.28545524e-03,\n",
       "        -3.58791584e-02,   8.91330823e-03,  -3.56486369e-02,\n",
       "         1.08921478e-02,  -3.04529381e-02,   2.30794331e-02,\n",
       "        -3.10061160e-03,   5.32142645e-02,  -6.98281806e-03,\n",
       "        -1.84633558e-02,   5.87849169e-03,   6.67358296e-03,\n",
       "        -5.09376729e-03,   1.47767441e-03,  -2.23272128e-04,\n",
       "         1.85360998e-05,  -7.99953668e-07,   1.40024727e-08,\n",
       "        -3.64007512e-03,   2.54321842e-02,  -8.22096019e-04,\n",
       "         3.58551098e-02,   6.01050057e-04,  -9.23465234e-03,\n",
       "        -2.22518808e-05,   9.50075573e-04,  -1.02937008e-05,\n",
       "        -3.55223556e-05,   7.60554154e-07,  -3.22166286e-03,\n",
       "        -2.50966156e-02,  -1.60721347e-03,  -4.02024882e-03,\n",
       "         1.68100985e-03,   7.92295443e-03,  -4.38392511e-04,\n",
       "        -2.29816446e-03,   7.01003407e-05,   1.93958244e-04,\n",
       "        -5.61231939e-06,   4.65455478e-02,  -9.39488753e-03,\n",
       "         2.25424034e-02,  -3.15164756e-03,  -3.24703551e-03,\n",
       "         1.49191475e-03,  -2.82340729e-04,   2.87731318e-05,\n",
       "        -1.64595975e-06,   4.96952314e-08,  -6.15399979e-10,\n",
       "         3.31413314e-04,   1.43755508e-02,   2.68163696e-03,\n",
       "         1.25011164e-02,  -6.15562739e-04,  -2.26828855e-03,\n",
       "         6.97452944e-05,   1.62884031e-04,  -3.63898736e-06,\n",
       "        -4.03558696e-06,   6.38975309e-08,  -3.32099952e-03,\n",
       "        -1.28407575e-02,  -4.87208272e-03,  -7.42390288e-03,\n",
       "         3.81209042e-03,   3.47184246e-03,  -1.02911451e-03,\n",
       "        -4.78414070e-04,   1.15370420e-04,   2.16262776e-05,\n",
       "        -4.54100504e-06,   5.04196316e-02,  -3.74793056e-02,\n",
       "        -5.66729055e-03,   4.27626310e-03,   6.27100160e-03,\n",
       "        -3.65349346e-03,   8.89755430e-04,  -1.19264773e-04,\n",
       "         9.15415541e-06,  -3.77196550e-07,   6.47063016e-09,\n",
       "        -8.74427833e-02,   3.76412959e-03,   1.43770297e-02,\n",
       "         7.25504411e-02,   6.25056497e-03,  -6.16513928e-02,\n",
       "        -2.77043569e-02,   4.57767492e-03,   1.93494838e-02,\n",
       "         1.38874464e-02,   9.39363322e-03,  -1.35910728e-02,\n",
       "         2.75316170e-03,  -1.16560718e-02,   1.79303203e-02,\n",
       "         1.72981721e-02,   8.95283528e-03,  -8.66836345e-03,\n",
       "        -5.02755066e-03,  -1.15292777e-03,  -3.81961610e-02,\n",
       "        -7.16633158e-03,  -4.65404065e-02,  -1.51318634e-01,\n",
       "        -4.30655095e-02,   6.78966530e-02,   2.01114370e-02,\n",
       "         4.94989073e-03,  -3.70841539e-04,  -6.00794045e-03,\n",
       "         1.38551307e-02,   3.86085396e-03,   8.98927936e-03,\n",
       "        -1.95194368e-02,   1.15946223e-02,  -4.09745295e-03,\n",
       "        -1.21202689e-03,  -3.88633280e-03,  -1.43606260e-02,\n",
       "        -3.73600595e-03,   4.65879126e-03,  -6.53938667e-03,\n",
       "        -9.65429017e-03,   5.07572899e-03,   7.68002513e-03,\n",
       "         4.87961572e-03,  -8.41782348e-03,   2.07440671e-02,\n",
       "         5.71665954e-02,  -7.85845097e-03,   2.33359877e-03,\n",
       "         4.49716846e-03,  -3.42123955e-03,  -6.47516109e-02,\n",
       "        -5.61303879e-03,  -1.49162728e-02,   1.10739687e-02,\n",
       "         4.05472431e-02,   3.87563833e-03,   4.72101993e-02,\n",
       "        -1.47120251e-03,  -1.82004063e-02,  -7.61766125e-03,\n",
       "        -2.64836673e-02,  -2.92705648e-02,  -1.50040423e-02,\n",
       "        -2.09109202e-02,   1.04601899e-03,  -1.40375859e-02,\n",
       "        -1.86104384e-02,   9.98911293e-03,   7.28070539e-02,\n",
       "         1.52343519e-02,   6.65749745e-03,   3.01349140e-02,\n",
       "        -3.15227621e-03,  -7.77566285e-04,  -7.21320127e-03,\n",
       "         1.43699549e-02,  -1.43158984e-02,  -3.12097881e-02,\n",
       "        -1.06607632e-02,  -2.22532059e-02,  -4.05410363e-03,\n",
       "        -7.43291217e-03,   5.09339263e-03,  -5.29581210e-03,\n",
       "         4.08047706e-03,  -7.30718007e-03,  -3.80476432e-02,\n",
       "        -2.73012811e-02,   6.28320119e-03,  -1.78407798e-04,\n",
       "        -1.16954805e-03,   5.16356770e-04,   4.86395563e-03,\n",
       "        -7.06256015e-03,   5.19181873e-03,   3.13204350e-03,\n",
       "         2.54894798e-03,  -3.41509447e-03,  -2.63023129e-03,\n",
       "         3.74570951e-03,   7.27178707e-04,   1.57593341e-03,\n",
       "         6.61867134e-03,  -2.74211444e-03,  -4.07615792e-03,\n",
       "         6.42233040e-03,  -9.37609343e-03,   6.35276624e-03,\n",
       "        -3.15767077e-03,  -1.81718616e-04,  -4.62705411e-03,\n",
       "        -9.43457600e-04,   8.37211638e-05,   2.08515287e-03,\n",
       "         9.99252531e-04,  -1.40272211e-03,  -3.29168691e-03,\n",
       "        -1.41295739e-03,  -8.04231034e-04,  -3.30717893e-02,\n",
       "        -2.70246576e-02,  -1.09684681e-02,   1.78110491e-03,\n",
       "        -1.68078147e-02,  -1.88165175e-03,  -5.56863764e-03,\n",
       "        -3.74729956e-03,  -3.56229139e-03,  -1.10682350e-02,\n",
       "         1.46397141e-02,   9.49634521e-03,   3.37194205e-02,\n",
       "        -2.90857788e-03,   3.03924503e-03,  -2.95159728e-03,\n",
       "        -3.04302282e-03,   4.83153107e-03,  -6.94970239e-03,\n",
       "        -2.90954001e-03,   5.74972208e-03,  -4.26813688e-04,\n",
       "        -2.79568113e-03,  -3.64885995e-03,   2.90093464e-03,\n",
       "        -6.94790203e-03,  -3.92493271e-03,  -7.72425860e-03,\n",
       "        -1.20882615e-02,   7.63177722e-02,   1.90552335e-03,\n",
       "         3.36737672e-03,  -1.53162278e-03,  -4.72606131e-04,\n",
       "        -1.82032325e-03,   9.02149603e-03,  -6.99267622e-03,\n",
       "         1.21042809e-04,  -4.66961372e-03,   5.77978947e-03,\n",
       "        -2.75074891e-03,  -1.77554664e-04,  -2.32813694e-03,\n",
       "        -5.17336443e-04,   2.47927980e-03,  -3.59438717e-03,\n",
       "         1.14427084e-03,   4.88674558e-03,   1.64392305e-03,\n",
       "        -1.27782836e-03,   3.40154127e-03,   1.29443779e-02,\n",
       "         4.30005262e-03,   1.81359183e-03,  -9.25806381e-03,\n",
       "        -1.12969137e-02,   7.48396806e-03,  -6.94319482e-02,\n",
       "        -1.70480999e-02,  -1.21926809e-03,   6.63660217e-03,\n",
       "         2.57790904e-02,  -4.03419603e-03,   3.94620608e-03,\n",
       "         1.22483622e-03,   4.63051403e-03,  -1.64550272e-02,\n",
       "        -6.99151139e-04,   3.34635160e-04,   4.82286254e-04,\n",
       "         3.86490154e-03,  -3.20445492e-04,  -6.26718798e-03,\n",
       "        -2.28523520e-03,  -1.45459006e-04,   3.43511957e-03,\n",
       "         2.99377628e-03,   2.07531974e-03,  -4.10118117e-04,\n",
       "        -1.65095662e-03,   4.13846741e-03,   6.83590663e-04,\n",
       "        -1.19572469e-04,   3.71666692e-03,   7.89502475e-03,\n",
       "        -1.16878648e-03,  -2.30567345e-03,   7.52996050e-03,\n",
       "        -6.23532068e-04,   8.82258341e-05,   8.46977298e-03,\n",
       "        -3.81259755e-03,   1.78541386e-02,  -2.21234289e-02,\n",
       "         1.45630291e-02,  -6.14300531e-04,   1.67152953e-02,\n",
       "        -2.02989256e-02,  -1.30905624e-03,  -8.35064266e-05,\n",
       "         3.09104106e-03,  -1.76786787e-02,  -4.20710252e-03,\n",
       "        -2.12900022e-04,   1.50801525e-03,  -3.02333327e-04,\n",
       "         1.63578515e-03,   4.90211097e-03,  -1.50148782e-02,\n",
       "        -6.23492049e-04,   9.34086021e-03,   3.09953169e-03,\n",
       "         3.54292395e-02,   2.66324008e-02,  -4.88072784e-02,\n",
       "        -6.40392911e-04,  -2.97530831e-03,  -5.85382704e-02,\n",
       "         8.14415807e-03,  -1.30861471e-02,   1.85255533e-02,\n",
       "         1.08573519e-02,  -1.96777320e-03,  -6.80842040e-03,\n",
       "         3.57040724e-03,  -8.05649372e-04,   1.73470055e-03,\n",
       "         5.56501684e-04,   2.76866487e-03,   4.57398678e-03,\n",
       "         7.65835815e-03,  -4.01962550e-03,   6.47506220e-04,\n",
       "         1.61990625e-02,  -3.98203459e-03,   2.60207817e-02,\n",
       "         6.83509584e-03,   1.71503837e-02,  -3.20202260e-03,\n",
       "         2.39537738e-02,   7.32285031e-03,  -7.89570735e-03,\n",
       "         5.85678130e-03,   1.62347028e-02,   4.73819965e-04,\n",
       "         9.81754252e-03,  -1.44941692e-03,   9.88100793e-04,\n",
       "         1.91825731e-02,  -8.00053322e-04,  -1.94438995e-03,\n",
       "        -1.26730759e-02,   6.53086485e-03,  -2.04419626e-02,\n",
       "        -1.39630056e-02,  -1.03007234e-03,   1.62410785e-03,\n",
       "        -1.46035988e-03,   2.65643248e-04,   3.30798799e-03,\n",
       "         5.50984188e-03,   4.56532856e-03,   2.60057218e-03,\n",
       "        -3.50267186e-04,  -1.10917828e-03,  -8.61812245e-04,\n",
       "         3.07540534e-03,   3.60575012e-03,  -2.68682087e-03,\n",
       "        -1.43034161e-02,   1.51612371e-04,  -3.69643281e-04,\n",
       "        -5.74296215e-03,  -4.25014621e-03,  -1.41957363e-03,\n",
       "        -4.98929861e-05,   2.46897449e-03,  -2.32368919e-03,\n",
       "         7.33821630e-03,   1.15850399e-04,  -3.78111792e-03,\n",
       "         1.57882847e-03,  -1.16158548e-02,   5.60965436e-03,\n",
       "        -4.38677037e-03,  -1.05103761e-03,  -7.29846783e-04,\n",
       "        -3.26532929e-03,   3.17145309e-03,  -3.56790811e-03,\n",
       "         2.08949337e-03,  -3.90743281e-03,  -1.16051188e-03,\n",
       "         9.34624088e-04,   5.38828086e-03,   3.96922575e-03,\n",
       "        -1.89467870e-03,  -2.35007203e-03,   7.86655922e-03,\n",
       "         8.37195829e-03,   8.27501394e-03,  -2.44174015e-04,\n",
       "        -3.34425191e-03,   7.91422216e-04,   1.00950235e-02,\n",
       "         8.41265358e-03,  -8.30542072e-03,   1.72038258e-02,\n",
       "        -9.61908503e-03,  -5.88300069e-03,  -1.25600675e-02,\n",
       "        -8.63878691e-03,  -6.78801652e-03,  -1.60198399e-02,\n",
       "         6.82791217e-03,  -8.30205078e-03,   1.19431448e-02,\n",
       "        -7.53971443e-04,   8.20826912e-04,   1.41013635e-03,\n",
       "        -9.72131581e-04,  -2.81901407e-03,  -5.62104369e-04,\n",
       "        -7.85090364e-03,  -4.00636086e-03,   4.85917690e-04,\n",
       "        -1.31191792e-03,   3.84906694e-04,  -3.62169030e-03,\n",
       "        -2.88687115e-03,  -1.24486598e-03,   2.77338240e-03,\n",
       "         4.69121137e-03,   9.23078746e-03,  -2.91500764e-03,\n",
       "         2.38920378e-03,  -2.32838478e-03,  -2.88867765e-04,\n",
       "        -9.31480483e-04,   2.88712129e-03,  -5.36225480e-03,\n",
       "        -6.92959394e-04,   1.70158890e-03,  -5.10454575e-03,\n",
       "         9.67816379e-03,   9.90429267e-04,  -4.47014217e-04,\n",
       "        -1.57837633e-03,  -1.81661647e-03,  -4.14088670e-03,\n",
       "        -2.05829000e-03,   1.27490491e-03,  -3.88134803e-04,\n",
       "        -6.26993640e-03,  -4.98250219e-03,   2.98446562e-03,\n",
       "        -4.31728459e-03,   2.09910918e-03,  -9.75463245e-04,\n",
       "         4.33630236e-03,  -8.26140017e-03,  -3.51735245e-03,\n",
       "        -1.37070795e-03,  -3.22121033e-03,  -6.65679573e-03,\n",
       "         1.60477011e-03,  -3.26552949e-03,   1.86404895e-03,\n",
       "        -1.86108666e-04,  -1.17497889e-04,   1.48924303e-03,\n",
       "         1.39059275e-03,   3.05331669e-03,  -3.43242718e-04,\n",
       "        -1.83936810e-03,  -1.46636653e-03,   3.11755798e-03,\n",
       "         1.50384405e-03,   2.94912733e-03,   4.40309766e-03,\n",
       "         3.53744163e-03,  -1.51577725e-03,   2.73017439e-03,\n",
       "         2.55898828e-03,   2.57092959e-04,  -1.13805020e-03,\n",
       "        -2.37139652e-03,   4.10965063e-03,   1.30575574e-02,\n",
       "        -7.19441589e-03,  -5.91423006e-03,   5.25112673e-03,\n",
       "         1.15313054e-02,   5.67166189e-03,  -3.19207221e-02,\n",
       "        -6.41774233e-03,  -1.47656154e-02,  -4.49293231e-03,\n",
       "        -2.09841310e-03,  -3.96429747e-03,   1.67199492e-04,\n",
       "         1.22972822e-03,   5.43011288e-03,   2.42425607e-04,\n",
       "         1.36606798e-03,  -1.93672051e-04,  -5.15037614e-04,\n",
       "        -1.42777348e-02,  -1.58840304e-02,  -6.11609426e-04,\n",
       "         3.11576055e-03,  -1.85217423e-02,   4.67567588e-03,\n",
       "        -4.11860475e-03])"
      ]
     },
     "execution_count": 69,
     "metadata": {},
     "output_type": "execute_result"
    },
    {
     "data": {
      "image/png": "[encoded data removed]",
      "text/plain": [
       "<matplotlib.figure.Figure at 0x14ae8f4a8>"
      ]
     },
     "metadata": {},
     "output_type": "display_data"
    }
   ],
   "source": [
    "'''Ridge Regression With Cross Validation'''\n",
    "degree = 11\n",
    "lambdas = np.logspace(-7,-2,10)\n",
    "k_fold = 4\n",
    "seed = 1\n",
    "\n",
    "cross_validation_ridge(y, x, k_fold, degree, lambdas, seed)"
   ]
  },
  {
   "cell_type": "code",
   "execution_count": 79,
   "metadata": {
    "collapsed": false
   },
   "outputs": [
    {
     "name": "stderr",
     "output_type": "stream",
     "text": [
      "/Users/Francisco/Documents/Physics/EPFL/Machine Learning/project_1_final/project_1_final/project_1_final-master/implementations_helpers.py:40: RuntimeWarning: overflow encountered in exp\n",
      "  return sum(np.log(1+np.exp(np.dot(tx,w))) - y*np.dot(tx,w))\n",
      "/Users/Francisco/Documents/Physics/EPFL/Machine Learning/project_1_final/project_1_final/project_1_final-master/implementations_helpers.py:36: RuntimeWarning: overflow encountered in exp\n",
      "  return 1/ (1 + np.exp(-t) ) #np.exp(t)/(1+np.exp(t))\n",
      "/Users/Francisco/Documents/Physics/EPFL/Machine Learning/project_1_final/project_1_final/project_1_final-master/implementations.py:107: RuntimeWarning: invalid value encountered in double_scalars\n",
      "  if iter_ > 1 and np.abs(loss - previousloss) < threshold:\n"
     ]
    },
    {
     "name": "stdout",
     "output_type": "stream",
     "text": [
      "Correct answers:  71.0693333333 %\n"
     ]
    },
    {
     "data": {
      "text/plain": [
       "array([  1.43527646e+07,  -3.56460549e+07,  -5.11968632e+06,\n",
       "         8.98847423e+06,   5.06757646e+06,   6.39531140e+06,\n",
       "        -5.85289604e+06,   1.18735788e+07,  -3.68936223e+06,\n",
       "         1.57923475e+06,  -1.60300539e+07,   2.08289707e+07,\n",
       "         6.77927288e+06,   1.23143363e+07,  -3.21772931e+04,\n",
       "        -3.52868882e+05,  -2.52703905e+06,   1.21783186e+05,\n",
       "         1.30376000e+05,  -6.04136757e+06,   3.04893760e+05,\n",
       "         6.46184871e+05,   3.51771028e+05,   4.57704923e+06,\n",
       "        -5.08941735e+04,   1.90692093e+04,  -2.83991772e+06,\n",
       "        -1.85971325e+03,  -1.80275236e+04,  -3.82627735e+05,\n",
       "        -8.02454118e+07])"
      ]
     },
     "execution_count": 79,
     "metadata": {},
     "output_type": "execute_result"
    }
   ],
   "source": [
    "'''Logistic Regression'''\n",
    "degree = 1\n",
    "ratio = 0.70 \n",
    "dim_w = get_length_w(x,degree, False)\n",
    "initial_w, max_iters, gamma = np.zeros(dim_w), 1000 , 1.\n",
    "logistic_with_simple_splitting(y,x, degree, ratio, initial_w, max_iters, gamma, seed = 1)"
   ]
  },
  {
   "cell_type": "code",
   "execution_count": 82,
   "metadata": {
    "collapsed": false
   },
   "outputs": [
    {
     "name": "stderr",
     "output_type": "stream",
     "text": [
      "/Users/Francisco/Documents/Physics/EPFL/Machine Learning/project_1_final/project_1_final/project_1_final-master/implementations_helpers.py:40: RuntimeWarning: overflow encountered in exp\n",
      "  return sum(np.log(1+np.exp(np.dot(tx,w))) - y*np.dot(tx,w))\n",
      "/Users/Francisco/Documents/Physics/EPFL/Machine Learning/project_1_final/project_1_final/project_1_final-master/implementations_helpers.py:36: RuntimeWarning: overflow encountered in exp\n",
      "  return 1/ (1 + np.exp(-t) ) #np.exp(t)/(1+np.exp(t))\n",
      "/Users/Francisco/Documents/Physics/EPFL/Machine Learning/project_1_final/project_1_final/project_1_final-master/implementations.py:138: RuntimeWarning: invalid value encountered in double_scalars\n",
      "  if iter_ > 1 and np.abs(loss - previousloss) < threshold:\n"
     ]
    },
    {
     "name": "stdout",
     "output_type": "stream",
     "text": [
      "Correct answers:  71.0693333333 % for lambda = 0.000000\n",
      "Correct answers:  71.0693333333 % for lambda = 0.000001\n",
      "Correct answers:  71.0693333333 % for lambda = 0.000112\n",
      "Correct answers:  71.072 % for lambda = 0.011885\n",
      "Correct answers:  39.8946666667 % for lambda = 1.258925\n"
     ]
    },
    {
     "data": {
      "text/plain": [
       "array([  4.43526899e+03,  -2.19608024e+04,   6.36091718e+02,\n",
       "        -4.88504139e+04,  -4.30326596e+04,  -3.04006988e+04,\n",
       "        -6.84606606e+02,   4.62575121e+04,  -3.32542412e+04,\n",
       "        -6.20939868e+04,  -3.09991229e+04,  -1.64915587e+04,\n",
       "        -3.90441861e+04,   4.19313864e+02,  -7.69643942e+02,\n",
       "        -1.02937346e+03,  -3.06123851e+04,  -7.30396301e+02,\n",
       "         4.37549267e+02,  -4.02877426e+04,   1.07913253e+02,\n",
       "        -5.92467043e+04,  -7.20065927e+04,  -5.67159122e+04,\n",
       "        -2.13805811e+01,   2.88505810e+02,  -6.44626571e+04,\n",
       "         4.25459073e+01,   3.60840979e+01,  -6.65056105e+04,\n",
       "        -7.61152992e+04])"
      ]
     },
     "execution_count": 82,
     "metadata": {},
     "output_type": "execute_result"
    }
   ],
   "source": [
    "'''Regularized Logistic Regression'''\n",
    "degree = 1\n",
    "ratio = 0.7\n",
    "dim_w = get_length_w(x,degree, False)\n",
    "initial_w, max_iters, gamma = np.zeros(dim_w), 1000 , 1.\n",
    "lambdas = np.logspace(-8,0.1,5)\n",
    "reg_logistic_with_simple_splitting(y,x, 1, ratio, initial_w, max_iters, gamma, lambdas, seed = 1)"
   ]
  },
  {
   "cell_type": "code",
   "execution_count": 83,
   "metadata": {
    "collapsed": false
   },
   "outputs": [
    {
     "name": "stdout",
     "output_type": "stream",
     "text": [
      "\n",
      " k= 1 \n",
      "\n"
     ]
    },
    {
     "name": "stderr",
     "output_type": "stream",
     "text": [
      "/Users/Francisco/Documents/Physics/EPFL/Machine Learning/project_1_final/project_1_final/project_1_final-master/implementations_helpers.py:40: RuntimeWarning: overflow encountered in exp\n",
      "  return sum(np.log(1+np.exp(np.dot(tx,w))) - y*np.dot(tx,w))\n",
      "/Users/Francisco/Documents/Physics/EPFL/Machine Learning/project_1_final/project_1_final/project_1_final-master/implementations_helpers.py:36: RuntimeWarning: overflow encountered in exp\n",
      "  return 1/ (1 + np.exp(-t) ) #np.exp(t)/(1+np.exp(t))\n",
      "/Users/Francisco/Documents/Physics/EPFL/Machine Learning/project_1_final/project_1_final/project_1_final-master/implementations.py:138: RuntimeWarning: invalid value encountered in double_scalars\n",
      "  if iter_ > 1 and np.abs(loss - previousloss) < threshold:\n"
     ]
    },
    {
     "name": "stdout",
     "output_type": "stream",
     "text": [
      "Correct answers:  55.2016 % for lambda = 0.000010\n",
      "Correct answers:  55.2592 % for lambda = 0.000316\n",
      "Correct answers:  53.7472 % for lambda = 0.010000\n",
      "Correct answers:  55.8832 % for lambda = 0.316228\n"
     ]
    },
    {
     "name": "stderr",
     "output_type": "stream",
     "text": [
      "/Users/Francisco/Documents/Physics/EPFL/Machine Learning/project_1_final/project_1_final/project_1_final-master/implementations_helpers.py:40: RuntimeWarning: invalid value encountered in subtract\n",
      "  return sum(np.log(1+np.exp(np.dot(tx,w))) - y*np.dot(tx,w))\n",
      "/Users/Francisco/Documents/Physics/EPFL/Machine Learning/project_1_final/project_1_final/project_1_final-master/implementations_helpers.py:40: RuntimeWarning: invalid value encountered in double_scalars\n",
      "  return sum(np.log(1+np.exp(np.dot(tx,w))) - y*np.dot(tx,w))\n"
     ]
    },
    {
     "name": "stdout",
     "output_type": "stream",
     "text": [
      "Correct answers:  0.0 % for lambda = 10.000000\n",
      "\n",
      " k= 2 \n",
      "\n",
      "Correct answers:  57.3776 % for lambda = 0.000010\n"
     ]
    },
    {
     "ename": "KeyboardInterrupt",
     "evalue": "",
     "output_type": "error",
     "traceback": [
      "\u001b[0;31m---------------------------------------------------------------------------\u001b[0m",
      "\u001b[0;31mKeyboardInterrupt\u001b[0m                         Traceback (most recent call last)",
      "\u001b[0;32m<ipython-input-83-e9d7bb9b788f>\u001b[0m in \u001b[0;36m<module>\u001b[0;34m()\u001b[0m\n\u001b[1;32m      8\u001b[0m \u001b[0mseed\u001b[0m \u001b[0;34m=\u001b[0m \u001b[0;36m1\u001b[0m \u001b[0;31m#seed for the random splitting\u001b[0m\u001b[0;34m\u001b[0m\u001b[0m\n\u001b[1;32m      9\u001b[0m \u001b[0;34m\u001b[0m\u001b[0m\n\u001b[0;32m---> 10\u001b[0;31m \u001b[0mcross_validation_logistic\u001b[0m\u001b[0;34m(\u001b[0m\u001b[0my\u001b[0m\u001b[0;34m,\u001b[0m \u001b[0mx\u001b[0m\u001b[0;34m,\u001b[0m \u001b[0minitial_w\u001b[0m\u001b[0;34m,\u001b[0m \u001b[0mmax_iters\u001b[0m\u001b[0;34m,\u001b[0m \u001b[0mgamma\u001b[0m\u001b[0;34m,\u001b[0m \u001b[0mk_fold\u001b[0m\u001b[0;34m,\u001b[0m \u001b[0mdegree\u001b[0m\u001b[0;34m,\u001b[0m \u001b[0mlambdas\u001b[0m\u001b[0;34m,\u001b[0m \u001b[0mseed\u001b[0m\u001b[0;34m)\u001b[0m\u001b[0;34m\u001b[0m\u001b[0m\n\u001b[0m",
      "\u001b[0;32m/Users/Francisco/Documents/Physics/EPFL/Machine Learning/project_1_final/project_1_final/project_1_final-master/general_helpers.py\u001b[0m in \u001b[0;36mcross_validation_logistic\u001b[0;34m(y, x, initial_w, max_iters, gamma, k_fold, degree, lambdas, seed)\u001b[0m\n\u001b[1;32m    331\u001b[0m         \u001b[0mloss_temp\u001b[0m \u001b[0;34m=\u001b[0m \u001b[0;34m[\u001b[0m\u001b[0;34m]\u001b[0m \u001b[0;31m#empty list to store losses for a given k\u001b[0m\u001b[0;34m\u001b[0m\u001b[0m\n\u001b[1;32m    332\u001b[0m \u001b[0;34m\u001b[0m\u001b[0m\n\u001b[0;32m--> 333\u001b[0;31m         \u001b[0;32mfor\u001b[0m \u001b[0mlambda_\u001b[0m \u001b[0;32min\u001b[0m \u001b[0mlambdas\u001b[0m\u001b[0;34m:\u001b[0m\u001b[0;34m\u001b[0m\u001b[0m\n\u001b[0m\u001b[1;32m    334\u001b[0m             \u001b[0mw\u001b[0m\u001b[0;34m,\u001b[0m \u001b[0m_\u001b[0m \u001b[0;34m=\u001b[0m \u001b[0mreg_logistic_regression\u001b[0m\u001b[0;34m(\u001b[0m\u001b[0my_train\u001b[0m\u001b[0;34m,\u001b[0m \u001b[0mphi_train\u001b[0m\u001b[0;34m,\u001b[0m \u001b[0mlambda_\u001b[0m\u001b[0;34m,\u001b[0m \u001b[0minitial_w\u001b[0m\u001b[0;34m,\u001b[0m \u001b[0mmax_iters\u001b[0m\u001b[0;34m,\u001b[0m \u001b[0mgamma\u001b[0m\u001b[0;34m)\u001b[0m\u001b[0;34m\u001b[0m\u001b[0m\n\u001b[1;32m    335\u001b[0m \u001b[0;34m\u001b[0m\u001b[0m\n",
      "\u001b[0;32m/Users/Francisco/Documents/Physics/EPFL/Machine Learning/project_1_final/project_1_final/project_1_final-master/implementations.py\u001b[0m in \u001b[0;36mreg_logistic_regression\u001b[0;34m(y, tx, lambda_, initial_w, max_iters, gamma)\u001b[0m\n\u001b[1;32m    135\u001b[0m     \u001b[0;32mfor\u001b[0m \u001b[0miter_\u001b[0m \u001b[0;32min\u001b[0m \u001b[0mrange\u001b[0m\u001b[0;34m(\u001b[0m\u001b[0mmax_iters\u001b[0m\u001b[0;34m)\u001b[0m\u001b[0;34m:\u001b[0m\u001b[0;34m\u001b[0m\u001b[0m\n\u001b[1;32m    136\u001b[0m         \u001b[0;31m# get loss and update w.\u001b[0m\u001b[0;34m\u001b[0m\u001b[0;34m\u001b[0m\u001b[0m\n\u001b[0;32m--> 137\u001b[0;31m         \u001b[0mloss\u001b[0m\u001b[0;34m,\u001b[0m \u001b[0mw\u001b[0m \u001b[0;34m=\u001b[0m \u001b[0mlearning_by_penalized_gradient\u001b[0m\u001b[0;34m(\u001b[0m\u001b[0my\u001b[0m\u001b[0;34m,\u001b[0m \u001b[0mtx\u001b[0m\u001b[0;34m,\u001b[0m \u001b[0mw\u001b[0m\u001b[0;34m,\u001b[0m \u001b[0mgamma\u001b[0m\u001b[0;34m,\u001b[0m \u001b[0mlambda_\u001b[0m\u001b[0;34m)\u001b[0m\u001b[0;34m\u001b[0m\u001b[0m\n\u001b[0m\u001b[1;32m    138\u001b[0m         \u001b[0;32mif\u001b[0m \u001b[0miter_\u001b[0m \u001b[0;34m>\u001b[0m \u001b[0;36m1\u001b[0m \u001b[0;32mand\u001b[0m \u001b[0mnp\u001b[0m\u001b[0;34m.\u001b[0m\u001b[0mabs\u001b[0m\u001b[0;34m(\u001b[0m\u001b[0mloss\u001b[0m \u001b[0;34m-\u001b[0m \u001b[0mpreviousloss\u001b[0m\u001b[0;34m)\u001b[0m \u001b[0;34m<\u001b[0m \u001b[0mthreshold\u001b[0m\u001b[0;34m:\u001b[0m\u001b[0;34m\u001b[0m\u001b[0m\n\u001b[1;32m    139\u001b[0m             \u001b[0;32mbreak\u001b[0m\u001b[0;34m\u001b[0m\u001b[0m\n",
      "\u001b[0;32m/Users/Francisco/Documents/Physics/EPFL/Machine Learning/project_1_final/project_1_final/project_1_final-master/implementations_helpers.py\u001b[0m in \u001b[0;36mlearning_by_penalized_gradient\u001b[0;34m(y, tx, w, gamma, lambda_)\u001b[0m\n\u001b[1;32m     67\u001b[0m         \"\"\"\n\u001b[1;32m     68\u001b[0m \u001b[0;34m\u001b[0m\u001b[0m\n\u001b[0;32m---> 69\u001b[0;31m     \u001b[0mloss\u001b[0m \u001b[0;34m=\u001b[0m \u001b[0mcalculate_loss_logistic\u001b[0m\u001b[0;34m(\u001b[0m\u001b[0my\u001b[0m\u001b[0;34m,\u001b[0m \u001b[0mtx\u001b[0m\u001b[0;34m,\u001b[0m \u001b[0mw\u001b[0m\u001b[0;34m)\u001b[0m \u001b[0;34m+\u001b[0m \u001b[0mlambda_\u001b[0m\u001b[0;34m/\u001b[0m\u001b[0;36m2\u001b[0m\u001b[0;34m*\u001b[0m\u001b[0mnp\u001b[0m\u001b[0;34m.\u001b[0m\u001b[0mdot\u001b[0m\u001b[0;34m(\u001b[0m\u001b[0mw\u001b[0m\u001b[0;34m,\u001b[0m\u001b[0mw\u001b[0m\u001b[0;34m)\u001b[0m\u001b[0;34m\u001b[0m\u001b[0m\n\u001b[0m\u001b[1;32m     70\u001b[0m     \u001b[0;31m# compute the cost\u001b[0m\u001b[0;34m\u001b[0m\u001b[0;34m\u001b[0m\u001b[0m\n\u001b[1;32m     71\u001b[0m \u001b[0;34m\u001b[0m\u001b[0m\n",
      "\u001b[0;32m/Users/Francisco/Documents/Physics/EPFL/Machine Learning/project_1_final/project_1_final/project_1_final-master/implementations_helpers.py\u001b[0m in \u001b[0;36mcalculate_loss_logistic\u001b[0;34m(y, tx, w)\u001b[0m\n\u001b[1;32m     38\u001b[0m \u001b[0;32mdef\u001b[0m \u001b[0mcalculate_loss_logistic\u001b[0m\u001b[0;34m(\u001b[0m\u001b[0my\u001b[0m\u001b[0;34m,\u001b[0m \u001b[0mtx\u001b[0m\u001b[0;34m,\u001b[0m \u001b[0mw\u001b[0m\u001b[0;34m)\u001b[0m\u001b[0;34m:\u001b[0m\u001b[0;34m\u001b[0m\u001b[0m\n\u001b[1;32m     39\u001b[0m     \u001b[0;34m\"\"\"compute the cost by negative log likelihood.\"\"\"\u001b[0m\u001b[0;34m\u001b[0m\u001b[0m\n\u001b[0;32m---> 40\u001b[0;31m     \u001b[0;32mreturn\u001b[0m \u001b[0msum\u001b[0m\u001b[0;34m(\u001b[0m\u001b[0mnp\u001b[0m\u001b[0;34m.\u001b[0m\u001b[0mlog\u001b[0m\u001b[0;34m(\u001b[0m\u001b[0;36m1\u001b[0m\u001b[0;34m+\u001b[0m\u001b[0mnp\u001b[0m\u001b[0;34m.\u001b[0m\u001b[0mexp\u001b[0m\u001b[0;34m(\u001b[0m\u001b[0mnp\u001b[0m\u001b[0;34m.\u001b[0m\u001b[0mdot\u001b[0m\u001b[0;34m(\u001b[0m\u001b[0mtx\u001b[0m\u001b[0;34m,\u001b[0m\u001b[0mw\u001b[0m\u001b[0;34m)\u001b[0m\u001b[0;34m)\u001b[0m\u001b[0;34m)\u001b[0m \u001b[0;34m-\u001b[0m \u001b[0my\u001b[0m\u001b[0;34m*\u001b[0m\u001b[0mnp\u001b[0m\u001b[0;34m.\u001b[0m\u001b[0mdot\u001b[0m\u001b[0;34m(\u001b[0m\u001b[0mtx\u001b[0m\u001b[0;34m,\u001b[0m\u001b[0mw\u001b[0m\u001b[0;34m)\u001b[0m\u001b[0;34m)\u001b[0m\u001b[0;34m\u001b[0m\u001b[0m\n\u001b[0m\u001b[1;32m     41\u001b[0m \u001b[0;34m\u001b[0m\u001b[0m\n\u001b[1;32m     42\u001b[0m \u001b[0;32mdef\u001b[0m \u001b[0mcalculate_gradient_logistic\u001b[0m\u001b[0;34m(\u001b[0m\u001b[0my\u001b[0m\u001b[0;34m,\u001b[0m \u001b[0mtx\u001b[0m\u001b[0;34m,\u001b[0m \u001b[0mw\u001b[0m\u001b[0;34m)\u001b[0m\u001b[0;34m:\u001b[0m\u001b[0;34m\u001b[0m\u001b[0m\n",
      "\u001b[0;31mKeyboardInterrupt\u001b[0m: "
     ]
    }
   ],
   "source": [
    "'''(Reg.) Logistic Regression With Cross Validation'''#This function takes around 1 hour!\n",
    "\n",
    "k_fold = 4 #define the number of folds\n",
    "degree = 11 #define the degree\n",
    "dim_w = get_length_w(x,degree, False)\n",
    "initial_w, max_iters, gamma = np.zeros(dim_w), 500 , 1.\n",
    "lambdas = np.logspace(-5,0,5) #define the lambdas\n",
    "seed = 1 #seed for the random splitting\n",
    "\n",
    "cross_validation_logistic(y, x, initial_w, max_iters, gamma, k_fold, degree, lambdas, seed)"
   ]
  },
  {
   "cell_type": "code",
   "execution_count": 94,
   "metadata": {
    "collapsed": false
   },
   "outputs": [
    {
     "data": {
      "image/png": "[encoded data removed]",
      "text/plain": [
       "<matplotlib.figure.Figure at 0x12c2dd518>"
      ]
     },
     "metadata": {},
     "output_type": "display_data"
    }
   ],
   "source": [
    "#HISTOGRAM\n",
    "\n",
    "correct_perc = [70.5, 64.9, 79.8, 82.7, 68, 72.6]\n",
    "methods = range(len(ys))\n",
    "plt.figure(figsize=(6,2))\n",
    "plt.xticks(methods, [\"GD\", \"SGD\",\"least\\nsquares\", \"ridge\",\"Logistic\", \"Reg.\\nlogistic\"],rotation=55, fontsize=10)\n",
    "plt.bar(methods, correct_perc, color = 'cornflowerblue')\n",
    "plt.ylim(60,85)\n",
    "plt.ylabel(\"Correct answers (%)\")\n",
    "plt.gcf().subplots_adjust(bottom=.4)\n",
    "plt.savefig(\"metods_bars.eps\", format = \"eps\", dpi=1000)"
   ]
  },
  {
   "cell_type": "code",
   "execution_count": null,
   "metadata": {
    "collapsed": true
   },
   "outputs": [],
   "source": [
    "create_submission(x_submission, degree, ids_submission)"
   ]
  }
 ],
 "metadata": {
  "kernelspec": {
   "display_name": "Python 3",
   "language": "python",
   "name": "python3"
  },
  "language_info": {
   "codemirror_mode": {
    "name": "ipython",
    "version": 3
   },
   "file_extension": ".py",
   "mimetype": "text/x-python",
   "name": "python",
   "nbconvert_exporter": "python",
   "pygments_lexer": "ipython3",
   "version": "3.4.4"
  },
  "widgets": {
   "state": {},
   "version": "1.1.2"
  }
 },
 "nbformat": 4,
 "nbformat_minor": 2
}
