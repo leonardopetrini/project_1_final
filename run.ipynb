{
 "cells": [
  {
   "cell_type": "code",
   "execution_count": 5,
   "metadata": {
    "collapsed": false
   },
   "outputs": [],
   "source": [
    "import numpy as np\n",
    "from implementations import *\n",
    "from general_helpers import *\n",
    "from proj1_helpers import *\n",
    "import matplotlib.pyplot as plt\n",
    "%matplotlib inline\n",
    "%reload_ext autoreload\n",
    "%autoreload 2"
   ]
  },
  {
   "cell_type": "code",
   "execution_count": 2,
   "metadata": {
    "collapsed": false
   },
   "outputs": [],
   "source": [
    "'''Load the data both from train and test csv file'''\n",
    "\n",
    "y, x, ids = load_csv_data(\"train.csv\", sub_sample=False)\n",
    "#_, x_submission, ids_submission = load_csv_data(\"test.csv\", sub_sample=False)\n",
    "x[x==-999] = 0\n",
    "x = standardize_by_column(x)"
   ]
  },
  {
   "cell_type": "code",
   "execution_count": 9,
   "metadata": {
    "collapsed": false
   },
   "outputs": [
    {
     "name": "stdout",
     "output_type": "stream",
     "text": [
      "Correct answers:  81.224 % for lambda = 0.000000\n",
      "Correct answers:  82.4816 % for lambda = 0.000001\n",
      "Correct answers:  82.6192 % for lambda = 0.000010\n",
      "Correct answers:  82.2176 % for lambda = 0.000100\n",
      "Correct answers:  82.672 % for lambda = 0.001000\n",
      "Correct answers:  45.1664 % for lambda = 0.000000\n",
      "Correct answers:  53.9984 % for lambda = 0.000001\n",
      "Correct answers:  54.5968 % for lambda = 0.000010\n",
      "Correct answers:  66.576 % for lambda = 0.000100\n",
      "Correct answers:  62.2 % for lambda = 0.001000\n",
      "Correct answers:  44.3184 % for lambda = 0.000000\n",
      "Correct answers:  45.4336 % for lambda = 0.000001\n",
      "Correct answers:  46.4672 % for lambda = 0.000010\n",
      "Correct answers:  47.1648 % for lambda = 0.000100\n",
      "Correct answers:  61.6496 % for lambda = 0.001000\n",
      "Correct answers:  78.664 % for lambda = 0.000000\n",
      "Correct answers:  82.1232 % for lambda = 0.000001\n",
      "Correct answers:  82.92 % for lambda = 0.000010\n",
      "Correct answers:  83.056 % for lambda = 0.000100\n",
      "Correct answers:  82.9776 % for lambda = 0.001000\n"
     ]
    },
    {
     "data": {
      "text/plain": [
       "array([  8.55783137e-01,  -1.51268521e-01,  -9.88106842e-01,\n",
       "         4.54039132e-01,   1.46261233e-01,  -1.61778460e-01,\n",
       "         5.31036849e-02,  -9.29717088e-03,   9.61587107e-04,\n",
       "        -5.88830328e-05,   1.97481188e-06,  -2.79506012e-08,\n",
       "        -2.67030892e-01,  -1.59658321e-02,   9.65387278e-02,\n",
       "        -5.39455662e-04,  -1.43378440e-02,   3.55937157e-03,\n",
       "        -1.65110276e-04,  -5.22792188e-05,   9.47776138e-06,\n",
       "        -6.87774105e-07,   2.39832096e-08,  -3.31027311e-10,\n",
       "        -3.64321999e-01,  -3.55523428e-01,  -1.43840436e-03,\n",
       "         2.09039998e-01,  -1.08053972e-01,   2.52778637e-02,\n",
       "        -3.34132598e-03,   2.68733942e-04,  -1.33959037e-05,\n",
       "         4.03778223e-07,  -6.73434464e-09,   4.76597003e-11,\n",
       "         2.08410841e-01,   5.28279098e-02,  -5.92987042e-02,\n",
       "         2.35012174e-02,  -3.08986448e-03,  -7.82130647e-05,\n",
       "         3.82849200e-05,  -1.22016011e-06,  -5.98968651e-08,\n",
       "         9.68742988e-11,   3.63797257e-11,   8.40129733e-13,\n",
       "        -6.55486518e-02,  -1.02136163e-01,   2.22125658e-02,\n",
       "         2.97299133e-03,   1.19469547e-03,  -7.63112042e-03,\n",
       "         4.58222462e-02,  -5.48948738e-02,   2.79055944e-02,\n",
       "        -7.12247811e-03,   9.04329149e-04,  -4.55808340e-05,\n",
       "        -1.20499079e-01,   8.25199658e-02,   4.37452288e-02,\n",
       "        -3.91126720e-02,   9.41420275e-03,  -3.69160434e-04,\n",
       "        -2.42583573e-04,   5.38406479e-05,  -5.37905740e-06,\n",
       "         2.93451899e-07,  -8.46889910e-09,   1.01393660e-10,\n",
       "        -3.69494290e-02,  -1.73976128e-02,  -1.43169431e-03,\n",
       "         1.20386574e-03,   3.23579059e-04,  -6.51417627e-05,\n",
       "        -1.68907496e-05,   2.38212902e-06,   3.75601374e-07,\n",
       "        -4.82982017e-08,  -2.81852019e-09,   3.52776250e-10,\n",
       "         2.04418868e-01,   2.09177814e-02,   9.82644384e-02,\n",
       "        -7.93366537e-02,  -1.39021681e-02,   1.93208470e-02,\n",
       "         3.84763150e-03,  -3.18654900e-03,  -2.59403565e-04,\n",
       "         1.98505266e-04,   9.33712879e-06,  -5.03376192e-06,\n",
       "        -7.97784585e-03,   2.28372427e-03,   7.58475754e-03,\n",
       "        -1.86515646e-03,   1.34518482e-04,  -2.65434603e-06,\n",
       "        -2.41651864e-08,  -2.50990994e-11,   9.91561182e-12,\n",
       "         4.39602296e-14,   4.17958239e-17,   4.69135713e-19,\n",
       "         1.47246634e-01,  -7.13443901e-02,  -6.70121119e-02,\n",
       "         1.57917043e-01,  -5.45738929e-02,  -1.13502636e-02,\n",
       "         1.20175167e-02,  -3.43756165e-03,   5.09729565e-04,\n",
       "        -4.24748441e-05,   1.88839148e-06,  -3.49321964e-08,\n",
       "        -1.30215393e-01,   4.81153292e-02,  -1.18251190e-02,\n",
       "        -1.61844796e-02,   1.15145465e-02,  -3.44839030e-03,\n",
       "         5.88486663e-04,  -6.19010728e-05,   4.07769077e-06,\n",
       "        -1.63689499e-07,   3.65708202e-09,  -3.48256402e-11,\n",
       "         1.16169200e-02,   9.88569811e-03,   1.59631273e-02,\n",
       "         1.11117075e-02,   1.32946907e-02,  -2.51446165e-03,\n",
       "         1.34976934e-02,  -4.26596474e-03,   1.20928242e-02,\n",
       "         3.14731702e-03,  -9.75683794e-03,  -4.00368394e-03,\n",
       "         3.49971605e-02,  -4.29164675e-02,   3.03298376e-02,\n",
       "        -7.71379092e-03,   1.59609734e-03,  -1.22332060e-03,\n",
       "         1.29001901e-02,  -1.26605544e-02,   1.41294416e-03,\n",
       "         2.40374973e-03,  -9.82011775e-04,   1.12179643e-04,\n",
       "         3.11772452e-01,  -6.97758153e-02,   1.93493267e-02,\n",
       "        -3.87953117e-02,   2.23581202e-02,  -5.91258135e-03,\n",
       "         8.71016477e-04,  -7.70456052e-05,   4.17393661e-06,\n",
       "        -1.35146302e-07,   2.39191368e-09,  -1.77274554e-11,\n",
       "         4.29793657e-03,   2.72663231e-02,  -8.54283118e-03,\n",
       "        -1.08526697e-02,   4.48196326e-03,  -2.92247789e-02,\n",
       "        -1.17897888e-03,   1.75882736e-02,   2.67694088e-04,\n",
       "        -3.25157063e-03,  -3.60605007e-05,   1.68474308e-04,\n",
       "         1.62437675e-03,  -8.09471466e-03,  -1.80363574e-02,\n",
       "         3.22020687e-03,   2.64177659e-03,  -1.53293681e-03,\n",
       "         2.39654069e-02,  -1.48824855e-03,  -1.61797535e-02,\n",
       "         1.38436648e-03,   2.88828741e-03,  -2.52366569e-04,\n",
       "         1.26359264e-01,  -3.47526273e-02,   8.04036170e-02,\n",
       "        -7.12140231e-02,   3.27108169e-02,  -9.09628143e-03,\n",
       "         1.62259004e-03,  -1.88906302e-04,   1.42192430e-05,\n",
       "        -6.64559579e-07,   1.74821243e-08,  -1.97371503e-10,\n",
       "        -4.38688230e-03,  -3.06169902e-02,   8.79683067e-03,\n",
       "        -1.52006489e-03,  -6.35228457e-03,   1.85916545e-03,\n",
       "         3.94149556e-04,  -6.14720101e-03,   8.97237055e-04,\n",
       "         3.33772836e-03,  -2.05722341e-04,  -4.86560431e-04,\n",
       "        -5.80548866e-03,  -9.29564138e-03,   2.14249602e-02,\n",
       "        -3.82194557e-03,  -4.03946513e-03,   1.47808351e-03,\n",
       "        -1.52925278e-02,   7.37426887e-03,   9.75890461e-03,\n",
       "        -4.92053260e-03,  -1.68550777e-03,   8.34125975e-04,\n",
       "        -3.44258964e-02,   4.07946259e-03,  -1.66252251e-02,\n",
       "         4.00338906e-03,  -4.10664647e-04,   1.96859802e-05,\n",
       "        -4.27644534e-07,   2.80917771e-09,   1.18244288e-10,\n",
       "        -2.93502016e-12,  -3.96556705e-14,  -4.36552318e-16,\n",
       "         9.26680373e-03,  -1.37984437e-03,  -1.27035841e-02,\n",
       "         1.96354041e-04,   7.94179688e-04,   2.52580575e-03,\n",
       "         1.35122067e-03,  -7.27006825e-04,   3.84915076e-04,\n",
       "        -6.26936061e-04,  -2.05820260e-04,   1.91528500e-04,\n",
       "        -1.78295298e-02,  -2.57192605e-02,   7.47028434e-03,\n",
       "         5.75402271e-03,  -3.19462306e-04,  -6.62461805e-04,\n",
       "        -1.59509766e-04,   1.83374150e-04,  -4.82434977e-05,\n",
       "         5.99852473e-06,  -3.69455706e-07,   9.09579363e-09,\n",
       "        -4.64322224e-02,   2.21833870e-02,  -4.30161020e-02,\n",
       "         2.15523869e-02,  -4.37832740e-02,   2.17594857e-02,\n",
       "        -4.34357247e-02,   2.00695406e-02,  -4.40101072e-02,\n",
       "         2.47440879e-02,  -1.88606310e-02,   8.33010299e-03,\n",
       "         8.20850675e-02,  -4.49647187e-02,  -2.16289150e-02,\n",
       "         2.23214850e-02,   2.66851116e-02,  -3.25221215e-02,\n",
       "         1.43821961e-02,  -3.44007804e-03,   4.86220295e-04,\n",
       "        -4.06200429e-05,   1.85558962e-06,  -3.57358155e-08,\n",
       "        -6.61480163e-06,   4.40756847e-02,  -5.81646315e-03,\n",
       "         3.46178987e-02,   4.17370929e-03,  -1.11176262e-02,\n",
       "        -1.04095318e-03,   1.44014892e-03,   1.04915638e-04,\n",
       "        -8.02737002e-05,  -3.67059167e-06,   1.42664338e-06,\n",
       "        -7.90273863e-03,  -1.78622316e-02,  -5.89488721e-03,\n",
       "        -1.33407034e-03,   1.63051290e-02,   1.48037866e-02,\n",
       "        -9.34788434e-03,  -8.46087877e-03,   2.04674686e-03,\n",
       "         1.89970365e-03,  -1.50144138e-04,  -1.55016946e-04,\n",
       "         8.74843760e-02,  -4.06588247e-02,   4.58722698e-02,\n",
       "        -5.04322954e-03,  -8.34984100e-03,   4.15186989e-03,\n",
       "        -9.10176035e-04,   1.13275302e-04,  -8.50691114e-06,\n",
       "         3.81895507e-07,  -9.43706227e-09,   9.86807408e-11,\n",
       "         1.02742117e-04,   3.09528284e-02,  -2.91556211e-03,\n",
       "         1.74769512e-02,   1.31119749e-03,  -5.00333077e-03,\n",
       "        -2.58290370e-04,   5.66751014e-04,   1.93785905e-05,\n",
       "        -2.86076548e-05,  -4.92213048e-07,   5.32321599e-07,\n",
       "         7.25814380e-03,  -2.34929693e-02,  -1.12485559e-02,\n",
       "         5.12033694e-03,   4.09183117e-03,  -6.58672162e-04,\n",
       "        -5.86189687e-04,   1.34692039e-04,   3.74663239e-05,\n",
       "        -1.81594537e-05,  -9.01884363e-07,   8.41124833e-07,\n",
       "         7.40948710e-02,  -9.75258446e-02,   5.36430316e-02,\n",
       "         1.79147067e-02,  -4.10512634e-02,   2.46409552e-02,\n",
       "        -7.60310019e-03,   1.37131062e-03,  -1.50137941e-04,\n",
       "         9.82476203e-06,  -3.53293481e-07,   5.36582577e-09,\n",
       "        -1.82748075e-01,  -9.31525969e-03,   1.56414423e-02,\n",
       "         8.89943163e-02,  -2.69002611e-02,  -9.24583283e-02,\n",
       "        -3.02934192e-02,   3.02702729e-02,   2.61678526e-02,\n",
       "        -4.33088080e-03,   2.30769686e-02,  -2.11880237e-03,\n",
       "        -4.22191395e-03,  -4.90884843e-02,   8.91335459e-03,\n",
       "         2.80477493e-02,   1.91191822e-02,  -1.15086140e-02,\n",
       "        -2.97198680e-02,  -9.39698932e-03,  -2.00811028e-02,\n",
       "         8.41774583e-03,  -5.01025503e-02,  -1.51429239e-01,\n",
       "         3.96130639e-02,   9.53286969e-02,   2.09061485e-02,\n",
       "         1.47448745e-02,   1.40410968e-02,  -3.56978465e-04,\n",
       "         1.73961881e-02,  -1.13489191e-03,   2.02115816e-02,\n",
       "        -1.49857117e-02,   1.42941299e-02,  -7.33722031e-04,\n",
       "         1.25236083e-03,   1.13857347e-03,  -3.21870565e-02,\n",
       "        -2.28284101e-02,  -1.83479543e-02,   2.61607508e-04,\n",
       "        -1.77356618e-02,   8.74350701e-03,   6.42447551e-03,\n",
       "         1.13058750e-02,   2.95567728e-03,   3.01615970e-02,\n",
       "         5.93515193e-02,  -6.42839102e-03,  -6.28641020e-03,\n",
       "         1.13347457e-02,  -4.81161891e-03,  -8.65575959e-02,\n",
       "        -2.54004868e-03,  -2.12779223e-02,   2.52728218e-02,\n",
       "         3.24857001e-02,  -4.79383747e-03,   5.11928022e-02,\n",
       "        -8.08678273e-03,  -2.48852071e-02,  -1.10570358e-02,\n",
       "        -2.32458635e-02,  -3.09503319e-02,  -3.21952925e-02,\n",
       "        -2.10671807e-02,  -7.48134460e-03,  -1.54983595e-02,\n",
       "        -2.16872165e-02,  -3.16370577e-03,   9.22297857e-02,\n",
       "         2.59991264e-03,   1.31165230e-02,   4.05772800e-02,\n",
       "        -6.95143415e-04,  -2.63347751e-03,  -6.82549967e-03,\n",
       "         1.84391323e-02,  -9.52644938e-04,  -2.80922075e-02,\n",
       "         5.22899316e-03,  -1.91142356e-02,  -8.83036230e-03,\n",
       "         1.01638984e-03,   1.12135704e-02,  -6.74808980e-02,\n",
       "         2.10283928e-03,  -1.24302680e-02,  -7.16272806e-02,\n",
       "        -4.01869265e-02,   1.08171870e-02,  -3.57156158e-03,\n",
       "        -2.40196752e-03,   8.80191083e-05,   6.43808248e-03,\n",
       "        -8.36738540e-03,   8.22410382e-04,  -1.08537403e-03,\n",
       "         1.07566275e-03,  -3.99304533e-03,  -1.13099154e-02,\n",
       "         2.17660639e-03,   6.21730313e-04,   2.25168207e-03,\n",
       "         3.16711305e-03,   2.80636163e-03,  -2.92952062e-03,\n",
       "         2.02073533e-04,  -7.86541720e-03,   5.69388262e-03,\n",
       "         5.80146460e-04,   1.98334152e-03,  -1.94182166e-03,\n",
       "         3.48597476e-04,   3.94908181e-03,  -1.46684501e-03,\n",
       "         1.67964934e-03,  -1.38021819e-03,  -5.69124120e-03,\n",
       "         1.52818529e-04,   9.93099826e-06,  -2.87844578e-02,\n",
       "        -2.51979064e-02,   1.73974881e-02,   3.24219031e-03,\n",
       "        -1.04478616e-02,   9.50106280e-03,  -1.30002768e-02,\n",
       "        -8.27731534e-03,   2.65821408e-03,  -1.87159089e-02,\n",
       "         1.75663906e-02,   1.81355780e-02,   1.94157128e-02,\n",
       "        -4.00365594e-03,   4.61446819e-03,  -2.77405287e-03,\n",
       "        -4.19967140e-03,  -1.26883136e-03,  -1.69715949e-02,\n",
       "         4.78725169e-04,   3.06871677e-03,   1.27392854e-03,\n",
       "         8.54484781e-04,  -3.78377433e-03,   1.47775519e-02,\n",
       "        -2.24505338e-03,  -1.87884251e-03,  -4.90152119e-03,\n",
       "        -2.81923727e-03,  -1.90111547e-02,  -3.15222612e-05,\n",
       "         3.87154695e-03,   6.49053617e-04,  -1.08188473e-03,\n",
       "        -7.13743173e-04,   7.18240472e-03,  -5.03845705e-03,\n",
       "        -3.20821988e-03,  -7.99793053e-03,   3.26825248e-03,\n",
       "        -2.37986317e-03,  -2.95737493e-03,   1.61233443e-03,\n",
       "        -8.21729227e-04,   1.76915988e-04,  -2.50192354e-03,\n",
       "        -1.09308032e-03,   6.81697146e-03,  -1.95558829e-03,\n",
       "         2.42412442e-03,  -4.31676687e-03,   1.20397674e-02,\n",
       "         3.85682080e-02,   1.50319397e-02,  -1.72633352e-02,\n",
       "        -1.07119614e-02,   1.21115123e-02,  -1.07638140e-01,\n",
       "        -2.38462224e-02,   2.28647289e-02,   5.21059642e-03,\n",
       "         1.55084843e-02,   2.04904677e-03,   9.58694026e-04,\n",
       "        -1.96696150e-03,   5.78754826e-03,  -3.31817730e-02,\n",
       "         5.25343234e-03,   1.88539397e-03,  -4.07843734e-03,\n",
       "         2.73179439e-03,   2.37360027e-03,  -2.91293951e-03,\n",
       "        -4.45313603e-03,   1.24579312e-03,   1.00353866e-03,\n",
       "         4.30806191e-03,   7.46566440e-04,  -1.30279268e-03,\n",
       "         6.01748272e-04,   2.40193849e-03,  -7.62672653e-04,\n",
       "         2.77467327e-03,   3.96766908e-03,   8.03989068e-03,\n",
       "        -8.75451339e-04,  -1.55590185e-03,   3.44415560e-03,\n",
       "        -2.00013663e-03,   1.00767751e-02,   1.88663537e-02,\n",
       "        -2.45708180e-02,   2.85249587e-02,  -2.93868154e-02,\n",
       "         2.14306558e-02,  -7.97919963e-03,   2.52961882e-02,\n",
       "        -2.17033139e-02,   2.40078086e-02,  -1.79554188e-02,\n",
       "         9.09946523e-03,  -1.90318881e-02,  -1.81812287e-02,\n",
       "        -1.12273315e-03,  -6.76580621e-03,   1.02869761e-02,\n",
       "         8.22350252e-04,   1.96823307e-03,  -2.41921757e-02,\n",
       "         2.00122470e-03,   1.69132108e-02,   2.16733303e-02,\n",
       "         3.10815152e-02,   5.38381431e-02,  -5.19006766e-02,\n",
       "         2.34542685e-02,   1.83621706e-03,  -7.27824970e-02,\n",
       "        -6.24699889e-03,  -2.84041082e-02,   2.42264932e-02,\n",
       "         4.30463615e-03,  -4.23895113e-03,  -1.14438072e-02,\n",
       "         3.45960237e-03,   8.60688251e-04,  -1.12800499e-02,\n",
       "         7.59435977e-04,   4.74245438e-03,  -2.64165642e-02,\n",
       "         1.01461500e-02,  -8.20620629e-03,   2.45558805e-02,\n",
       "         5.16737241e-02,   1.07520954e-02,   5.31555473e-02,\n",
       "         7.76808284e-03,   2.39035191e-02,   3.13277883e-03,\n",
       "         2.02036010e-03,  -1.29116715e-03,  -1.87076994e-02,\n",
       "         1.89143765e-02,   3.24459118e-02,   1.53943819e-02,\n",
       "         1.62131107e-02,   1.01819010e-02,  -2.17425535e-04,\n",
       "        -2.50641091e-03,  -1.34089793e-02,   2.37698051e-03,\n",
       "        -4.18531039e-02,   6.53704671e-03,  -5.87127815e-02,\n",
       "         3.85724443e-03,  -5.58154654e-03,   2.74524796e-04,\n",
       "        -2.19578466e-03,   6.87135646e-04,   3.56457856e-03,\n",
       "         9.13959690e-03,   4.78506297e-03,   7.72528355e-03,\n",
       "        -7.59773904e-04,  -7.42272040e-03,  -1.44247948e-03,\n",
       "         2.15087342e-03,   5.90997575e-04,  -1.54606996e-03,\n",
       "        -1.40964036e-02,   2.69198699e-03,   1.68159714e-03,\n",
       "        -7.22350989e-03,  -3.20575257e-03,  -1.19462350e-03,\n",
       "        -1.79033795e-03,   7.85503832e-03,   5.57171698e-03,\n",
       "         1.08400204e-02,   1.77535527e-03,   2.84418262e-04,\n",
       "        -1.30384162e-03,  -1.03955437e-02,   9.40304481e-03,\n",
       "        -5.56860405e-03,  -1.08834083e-03,   1.12576820e-03,\n",
       "        -4.99230075e-03,   4.27246759e-03,   8.65800640e-04,\n",
       "         2.07720485e-03,  -5.91875962e-03,   5.87514080e-04,\n",
       "         1.36004302e-03,   4.53834371e-03,  -1.88034410e-03,\n",
       "         6.32513363e-04,  -1.61458211e-03,   5.26540950e-03,\n",
       "         9.74567137e-03,   8.41135833e-03,  -7.45619337e-04,\n",
       "         6.77719326e-04,   4.18264805e-04,  -4.54779712e-02,\n",
       "         1.46968848e-03,   8.63892626e-02,   9.49898778e-03,\n",
       "         4.76318292e-03,  -1.67273538e-02,  -1.61017544e-02,\n",
       "        -3.39003878e-02,  -4.77547522e-03,  -2.25530297e-02,\n",
       "         9.43208066e-03,   2.34889217e-02,   1.54631843e-02,\n",
       "         1.21597187e-03,   1.26857397e-02,  -3.53632730e-03,\n",
       "        -1.27014027e-02,  -1.46323508e-02,   4.24499172e-03,\n",
       "        -6.01253011e-03,  -4.65697778e-03,  -1.97930112e-02,\n",
       "         2.14379145e-03,   2.95454925e-02,  -9.58988166e-04,\n",
       "        -6.43922470e-03,  -4.08522852e-03,   5.66046778e-03,\n",
       "         1.15077338e-04,   1.10251925e-02,   2.53694973e-03,\n",
       "         3.83361513e-03,  -1.34637223e-03,   3.41381201e-03,\n",
       "        -1.78553270e-03,   1.83769822e-03,  -6.31118978e-03,\n",
       "         3.34689683e-04,   3.40165789e-04,  -5.05635474e-03,\n",
       "         9.90254466e-03,   1.51106382e-03,   1.83460031e-03,\n",
       "        -5.33593326e-03,  -1.20836894e-03,  -4.88044350e-03,\n",
       "        -1.66557642e-03,   4.65259966e-03,   2.14990172e-03,\n",
       "        -8.27310259e-03,  -1.92294904e-02,   2.24684207e-03,\n",
       "        -3.28164263e-03,  -4.34658126e-03,  -3.62265822e-04,\n",
       "         6.48365828e-03,  -9.73208352e-03,  -5.34112118e-03,\n",
       "         8.22249034e-04,  -3.76942683e-03,  -6.72810342e-03,\n",
       "         3.62255901e-03,  -3.60599769e-03,   8.65642081e-04,\n",
       "         2.68531967e-03,  -1.00747436e-03,   2.26602474e-03,\n",
       "         4.92488272e-04,   1.69771722e-03,   2.52384917e-03,\n",
       "        -3.85428570e-04,  -3.40114397e-03,   6.68657221e-03,\n",
       "         1.83824619e-03,  -6.71015276e-03,   4.84051517e-03,\n",
       "         4.60215305e-03,  -1.53670815e-03,   8.65452143e-04,\n",
       "         6.11540772e-03,   2.01079208e-04,   1.60511758e-03,\n",
       "        -2.50729513e-02,  -2.25207324e-02,  -2.12445337e-02,\n",
       "         1.59472652e-03,  -1.88443055e-02,   5.61651251e-03,\n",
       "         2.58881491e-02,   1.47806414e-02,  -8.19696821e-02,\n",
       "        -4.57103125e-03,  -3.27593225e-02,  -9.63138478e-03,\n",
       "        -3.03294110e-03,  -1.31803825e-02,   4.91929001e-03,\n",
       "         6.48163254e-03,   1.72159081e-02,  -2.47749174e-03,\n",
       "         3.42592676e-02,  -1.98123194e-03,   3.01804955e-02,\n",
       "        -2.83506284e-02,  -2.51899358e-02,  -8.79124200e-03,\n",
       "         5.33708504e-03,  -2.38967106e-02,   2.91097369e-03,\n",
       "        -5.35156864e-03])"
      ]
     },
     "execution_count": 9,
     "metadata": {},
     "output_type": "execute_result"
    },
    {
     "data": {
      "image/png": "[encoded data removed]",
      "text/plain": [
       "<matplotlib.figure.Figure at 0x131e3d4a8>"
      ]
     },
     "metadata": {},
     "output_type": "display_data"
    }
   ],
   "source": [
    "degree = 12\n",
    "lambdas = np.logspace(-7,-3,5)\n",
    "k_fold = 4\n",
    "seed = 137\n",
    "\n",
    "cross_validation_ridge(y, x, k_fold, degree, lambdas, seed)"
   ]
  },
  {
   "cell_type": "code",
   "execution_count": 3,
   "metadata": {
    "collapsed": false
   },
   "outputs": [
    {
     "name": "stdout",
     "output_type": "stream",
     "text": [
      "Correct answers:  76.0546666667 % for lambda = 0.000000\n",
      "Correct answers:  77.7933333333 % for lambda = 0.000000\n",
      "Correct answers:  74.0866666667 % for lambda = 0.000000\n",
      "Correct answers:  71.8173333333 % for lambda = 0.000000\n",
      "Correct answers:  69.94 % for lambda = 0.000001\n",
      "Correct answers:  64.3013333333 % for lambda = 0.000001\n",
      "Correct answers:  59.452 % for lambda = 0.000004\n",
      "Correct answers:  51.7013333333 % for lambda = 0.000010\n",
      "Correct answers:  62.8573333333 % for lambda = 0.000026\n",
      "Correct answers:  69.8693333333 % for lambda = 0.000069\n",
      "Correct answers:  58.2813333333 % for lambda = 0.000183\n",
      "Correct answers:  80.884 % for lambda = 0.000489\n",
      "Correct answers:  81.8813333333 % for lambda = 0.001306\n",
      "Correct answers:  81.8626666667 % for lambda = 0.003484\n",
      "Correct answers:  82.1266666667 % for lambda = 0.009299\n",
      "Correct answers:  81.6946666667 % for lambda = 0.024816\n",
      "Correct answers:  81.1893333333 % for lambda = 0.066230\n",
      "Correct answers:  80.356 % for lambda = 0.176754\n",
      "Correct answers:  78.9666666667 % for lambda = 0.471720\n",
      "Correct answers:  77.3973333333 % for lambda = 1.258925\n"
     ]
    },
    {
     "data": {
      "image/png": "[encoded data removed]",
      "text/plain": [
       "<matplotlib.figure.Figure at 0x112206da0>"
      ]
     },
     "metadata": {},
     "output_type": "display_data"
    }
   ],
   "source": [
    "'''Define values to perform Ridge regression with simple splitting of the dataset'''\n",
    "\n",
    "degree = 12\n",
    "ratio = 0.70  #train/test examples\n",
    "#lambdas = np.logspace(-8,0.1,20) \n",
    "lambdas = np.logspace(-7,0.1,20)\n",
    "\n",
    "seed = 137\n",
    "\n",
    "w = ridge_with_simple_splitting(y,x, degree, ratio, lambdas, seed)"
   ]
  },
  {
   "cell_type": "code",
   "execution_count": 143,
   "metadata": {
    "collapsed": false
   },
   "outputs": [
    {
     "name": "stdout",
     "output_type": "stream",
     "text": [
      "Correct answers:  81.6733333333 % for lambda = 0.000150\n",
      "Correct answers:  81.6426666667 % for lambda = 0.000155\n",
      "Correct answers:  81.6866666667 % for lambda = 0.000160\n",
      "Correct answers:  81.7026666667 % for lambda = 0.000165\n",
      "Correct answers:  81.6906666667 % for lambda = 0.000170\n",
      "Correct answers:  81.6973333333 % for lambda = 0.000175\n",
      "Correct answers:  81.7013333333 % for lambda = 0.000180\n",
      "Correct answers:  81.704 % for lambda = 0.000185\n",
      "Correct answers:  81.6866666667 % for lambda = 0.000190\n",
      "Correct answers:  81.7013333333 % for lambda = 0.000195\n",
      "Correct answers:  81.7 % for lambda = 0.000200\n",
      "Correct answers:  81.696 % for lambda = 0.000205\n",
      "Correct answers:  81.6453333333 % for lambda = 0.000210\n"
     ]
    },
    {
     "data": {
      "image/png": "[encoded data removed]",
      "text/plain": [
       "<matplotlib.figure.Figure at 0x113958dd8>"
      ]
     },
     "metadata": {},
     "output_type": "display_data"
    }
   ],
   "source": [
    "'''Define values to perform Ridge regression with simple splitting of the dataset'''\n",
    "\n",
    "degree = 12\n",
    "ratio = 0.70  #train/test examples\n",
    "lambdas = np.arange(0.00015, 0.00021, 0.000005) \n",
    "seed = 1\n",
    "\n",
    "w = ridge_with_simple_splitting(y,x, degree, ratio, lambdas, seed)"
   ]
  },
  {
   "cell_type": "code",
   "execution_count": 144,
   "metadata": {
    "collapsed": false
   },
   "outputs": [
    {
     "name": "stdout",
     "output_type": "stream",
     "text": [
      "Correct answers:  81.704 % for lambda = 0.000185\n"
     ]
    },
    {
     "data": {
      "image/png": "[encoded data removed]",
      "text/plain": [
       "<matplotlib.figure.Figure at 0x13474c128>"
      ]
     },
     "metadata": {},
     "output_type": "display_data"
    }
   ],
   "source": [
    "'''Define values to perform Ridge regression with simple splitting of the dataset'''\n",
    "\n",
    "degree = 12\n",
    "ratio = 0.70  #train/test examples\n",
    "lambdas = [0.000185] \n",
    "seed = 1\n",
    "\n",
    "w = ridge_with_simple_splitting(y,x, degree, ratio, lambdas, seed)"
   ]
  },
  {
   "cell_type": "code",
   "execution_count": 145,
   "metadata": {
    "collapsed": false
   },
   "outputs": [
    {
     "name": "stdout",
     "output_type": "stream",
     "text": [
      "Correct answers:  81.5573333333 % for lambda = 0.000428\n",
      "Correct answers:  81.7066666667 % for lambda = 0.000429\n",
      "Correct answers:  81.7013333333 % for lambda = 0.000430\n",
      "Correct answers:  81.704 % for lambda = 0.000431\n",
      "Correct answers:  81.756 % for lambda = 0.000432\n",
      "Correct answers:  81.708 % for lambda = 0.000433\n",
      "Correct answers:  81.6933333333 % for lambda = 0.000434\n",
      "Correct answers:  81.7093333333 % for lambda = 0.000435\n",
      "Correct answers:  81.7506666667 % for lambda = 0.000436\n",
      "Correct answers:  81.576 % for lambda = 0.000437\n",
      "Correct answers:  81.696 % for lambda = 0.000438\n",
      "Correct answers:  81.6893333333 % for lambda = 0.000439\n",
      "Correct answers:  81.7013333333 % for lambda = 0.000440\n"
     ]
    },
    {
     "data": {
      "image/png": "[encoded data removed]",
      "text/plain": [
       "<matplotlib.figure.Figure at 0x13614cb70>"
      ]
     },
     "metadata": {},
     "output_type": "display_data"
    }
   ],
   "source": [
    "'''Define values to perform Ridge regression with simple splitting of the dataset'''\n",
    "\n",
    "degree = 12\n",
    "ratio = 0.70  #train/test examples\n",
    "lambdas = np.arange(0.000428, 0.00044, 0.000001) \n",
    "seed = 1\n",
    "\n",
    "q = 2.1\n",
    "\n",
    "w = bayes_with_simple_splitting(y,x, degree, ratio, lambdas, q , seed)"
   ]
  },
  {
   "cell_type": "code",
   "execution_count": 146,
   "metadata": {
    "collapsed": false
   },
   "outputs": [
    {
     "name": "stdout",
     "output_type": "stream",
     "text": [
      "Correct answers:  81.756 % for lambda = 0.000432\n"
     ]
    },
    {
     "data": {
      "image/png": "[encoded data removed]",
      "text/plain": [
       "<matplotlib.figure.Figure at 0x12b3fed30>"
      ]
     },
     "metadata": {},
     "output_type": "display_data"
    }
   ],
   "source": [
    "'''Define values to perform Ridge regression with simple splitting of the dataset'''\n",
    "\n",
    "degree = 12\n",
    "ratio = 0.70  #train/test examples\n",
    "lambdas = [0.000432] \n",
    "seed = 1\n",
    "\n",
    "q = 2.1\n",
    "\n",
    "w = bayes_with_simple_splitting(y,x, degree, ratio, lambdas, q , seed)"
   ]
  },
  {
   "cell_type": "code",
   "execution_count": 147,
   "metadata": {
    "collapsed": false
   },
   "outputs": [
    {
     "name": "stdout",
     "output_type": "stream",
     "text": [
      "Correct answers:  81.0666666667\n"
     ]
    }
   ],
   "source": [
    "'''Define values to perform Ridge regression with simple splitting of the dataset'''\n",
    "\n",
    "degree = 12\n",
    "ratio = 0.70  #train/test examples\n",
    " \n",
    "seed = 1\n",
    "\n",
    "\n",
    "w = LS_with_simple_splitting(y,x, degree, ratio, seed)"
   ]
  },
  {
   "cell_type": "code",
   "execution_count": 148,
   "metadata": {
    "collapsed": false
   },
   "outputs": [
    {
     "name": "stdout",
     "output_type": "stream",
     "text": [
      "Correct answers:  67.256 %\n"
     ]
    }
   ],
   "source": [
    "'''Define values to perform Ridge regression with simple splitting of the dataset'''\n",
    "\n",
    "## TO DO\n",
    "\n",
    "degree = 1\n",
    "ratio = 0.70  #train/test examples\n",
    " \n",
    "seed = 1\n",
    "\n",
    "initial_w, max_iters, gamma = np.zeros(x.shape[1]*degree + 1), 20 , 0.000001#balance iter/gamma\n",
    "\n",
    "\n",
    "w = GD_with_simple_splitting(y,x, degree, ratio, initial_w, max_iters, gamma, seed)"
   ]
  },
  {
   "cell_type": "code",
   "execution_count": 149,
   "metadata": {
    "collapsed": false
   },
   "outputs": [
    {
     "name": "stdout",
     "output_type": "stream",
     "text": [
      "Correct answers:  64.732 %\n"
     ]
    }
   ],
   "source": [
    "'''Define values to perform Ridge regression with simple splitting of the dataset'''\n",
    "\n",
    "## TO DO\n",
    "\n",
    "degree = 1\n",
    "ratio = 0.70  #train/test examples\n",
    " \n",
    "seed = 1\n",
    "\n",
    "initial_w, max_iters, gamma = np.zeros(x.shape[1]*degree + 1), 20 , 0.000001#balance iter/gamma\n",
    "\n",
    "\n",
    "w = SGD_with_simple_splitting(y,x, degree, ratio, initial_w, max_iters, gamma, seed)"
   ]
  },
  {
   "cell_type": "code",
   "execution_count": null,
   "metadata": {
    "collapsed": false
   },
   "outputs": [
    {
     "name": "stderr",
     "output_type": "stream",
     "text": [
      "/Users/Francisco/Documents/Physics/EPFL/Machine Learning/project_1_final/my_branch/project_1_final/implementations_helpers.py:42: RuntimeWarning: overflow encountered in exp\n",
      "  \n",
      "/Users/Francisco/Documents/Physics/EPFL/Machine Learning/project_1_final/my_branch/project_1_final/implementations_helpers.py:38: RuntimeWarning: overflow encountered in exp\n",
      "  \"\"\"Compute a stochastic gradient from just few examples n and their corresponding y_n labels.\"\"\"\n",
      "/Users/Francisco/Documents/Physics/EPFL/Machine Learning/project_1_final/my_branch/project_1_final/implementations.py:103: RuntimeWarning: invalid value encountered in double_scalars\n",
      "  tx: transposed x data;\n"
     ]
    }
   ],
   "source": [
    "initial_w = np.ones(31)\n",
    "max_iters = 50000\n",
    "gamma = 1.\n",
    "logistic_with_simple_splitting(y,x, 1, ratio, initial_w, max_iters, gamma, seed = 1)"
   ]
  },
  {
   "cell_type": "code",
   "execution_count": 129,
   "metadata": {
    "collapsed": false
   },
   "outputs": [
    {
     "name": "stderr",
     "output_type": "stream",
     "text": [
      "/Users/Francisco/Documents/Physics/EPFL/Machine Learning/project_1_final/my_branch/project_1_final/implementations.py:253: RuntimeWarning: overflow encountered in exp\n",
      "  return sum(np.log(1+np.exp(np.dot(tx,w))) - y*np.dot(tx,w))\n",
      "/Users/Francisco/Documents/Physics/EPFL/Machine Learning/project_1_final/my_branch/project_1_final/implementations.py:249: RuntimeWarning: overflow encountered in exp\n",
      "  return 1/ (1 + np.exp(-t) ) #np.exp(t)/(1+np.exp(t))\n",
      "/Users/Francisco/Documents/Physics/EPFL/Machine Learning/project_1_final/my_branch/project_1_final/implementations.py:157: RuntimeWarning: invalid value encountered in double_scalars\n",
      "  if iter_ > 1 and np.abs(loss - previousloss) < threshold:\n"
     ]
    },
    {
     "name": "stdout",
     "output_type": "stream",
     "text": [
      "Correct answers:  73.4666666667 % for lambda = 0.000000\n",
      "Correct answers:  73.4666666667 % for lambda = 0.000001\n",
      "Correct answers:  73.4666666667 % for lambda = 0.000112\n",
      "Correct answers:  73.4666666667 % for lambda = 0.011885\n",
      "Correct answers:  66.0666666667 % for lambda = 1.258925\n"
     ]
    },
    {
     "data": {
      "text/plain": [
       "array([  6.53171316e+02,  -1.33918488e+03,  -1.83154273e+02,\n",
       "         2.07540550e+03,   2.04290739e+03,   1.70931776e+03,\n",
       "        -8.80620010e+02,  -1.01454453e+03,   6.08506955e+02,\n",
       "         2.06003146e+03,  -2.59799813e+02,   1.91274010e+03,\n",
       "         1.93940870e+03,   1.19309704e+03,   2.46367692e+01,\n",
       "         7.19784255e+00,   5.54025381e+02,   7.37811323e+01,\n",
       "        -1.16117239e+01,   9.38466320e+02,   8.52432633e+01,\n",
       "         1.93275240e+03,   2.31603718e+03,   2.09171498e+03,\n",
       "         2.27824944e+00,   3.60773903e+01,   1.82071850e+03,\n",
       "         2.84660231e+01,  -1.72846551e+02,   2.03552352e+03,\n",
       "        -2.78156200e+03])"
      ]
     },
     "execution_count": 129,
     "metadata": {},
     "output_type": "execute_result"
    },
    {
     "data": {
      "image/png": "[encoded data removed]",
      "text/plain": [
       "<matplotlib.figure.Figure at 0x130a967f0>"
      ]
     },
     "metadata": {},
     "output_type": "display_data"
    }
   ],
   "source": [
    "initial_w = np.ones(31)\n",
    "lambdas = np.logspace(-8,0.1,5)\n",
    "reg_logistic_with_simple_splitting(y,x, 1, ratio, initial_w, max_iters, gamma, lambdas, seed = 1)"
   ]
  },
  {
   "cell_type": "code",
   "execution_count": 4,
   "metadata": {
    "collapsed": false
   },
   "outputs": [
    {
     "ename": "KeyboardInterrupt",
     "evalue": "",
     "output_type": "error",
     "traceback": [
      "\u001b[1;31m---------------------------------------------------------------------------\u001b[0m",
      "\u001b[1;31mKeyboardInterrupt\u001b[0m                         Traceback (most recent call last)",
      "\u001b[1;32m<ipython-input-4-9609deb9dc17>\u001b[0m in \u001b[0;36m<module>\u001b[1;34m()\u001b[0m\n\u001b[0;32m      6\u001b[0m \u001b[0mseed\u001b[0m \u001b[1;33m=\u001b[0m \u001b[1;36m1\u001b[0m \u001b[1;31m#seed for the random splitting\u001b[0m\u001b[1;33m\u001b[0m\u001b[0m\n\u001b[0;32m      7\u001b[0m \u001b[1;33m\u001b[0m\u001b[0m\n\u001b[1;32m----> 8\u001b[1;33m \u001b[0mcross_validation_ridge\u001b[0m\u001b[1;33m(\u001b[0m\u001b[0my\u001b[0m\u001b[1;33m,\u001b[0m \u001b[0mx\u001b[0m\u001b[1;33m,\u001b[0m \u001b[0mk_fold\u001b[0m\u001b[1;33m,\u001b[0m \u001b[0mdegree\u001b[0m\u001b[1;33m,\u001b[0m \u001b[0mlambdas\u001b[0m\u001b[1;33m,\u001b[0m \u001b[0mseed\u001b[0m\u001b[1;33m)\u001b[0m\u001b[1;33m\u001b[0m\u001b[0m\n\u001b[0m",
      "\u001b[1;32mC:\\Users\\leope\\Desktop\\project_1_final\\implementations.py\u001b[0m in \u001b[0;36mcross_validation_ridge\u001b[1;34m(y, x, k_fold, degree, lambdas, seed)\u001b[0m\n\u001b[0;32m    348\u001b[0m     \u001b[1;32mfor\u001b[0m \u001b[0mk\u001b[0m \u001b[1;32min\u001b[0m \u001b[0mrange\u001b[0m\u001b[1;33m(\u001b[0m\u001b[0mk_fold\u001b[0m\u001b[1;33m)\u001b[0m\u001b[1;33m:\u001b[0m\u001b[1;33m\u001b[0m\u001b[0m\n\u001b[0;32m    349\u001b[0m         \u001b[1;31m#split data according to kth fold\u001b[0m\u001b[1;33m\u001b[0m\u001b[1;33m\u001b[0m\u001b[0m\n\u001b[1;32m--> 350\u001b[1;33m         \u001b[0my_train\u001b[0m\u001b[1;33m,\u001b[0m \u001b[0mphi_train\u001b[0m\u001b[1;33m,\u001b[0m \u001b[0my_test\u001b[0m\u001b[1;33m,\u001b[0m \u001b[0mphi_test\u001b[0m \u001b[1;33m=\u001b[0m \u001b[0msplit_data_cross\u001b[0m\u001b[1;33m(\u001b[0m\u001b[0my\u001b[0m\u001b[1;33m,\u001b[0m \u001b[0mphi\u001b[0m\u001b[1;33m,\u001b[0m \u001b[0mk\u001b[0m\u001b[1;33m,\u001b[0m \u001b[0mk_indices\u001b[0m\u001b[1;33m,\u001b[0m \u001b[0mdegree\u001b[0m\u001b[1;33m)\u001b[0m\u001b[1;33m\u001b[0m\u001b[0m\n\u001b[0m\u001b[0;32m    351\u001b[0m \u001b[1;33m\u001b[0m\u001b[0m\n\u001b[0;32m    352\u001b[0m         \u001b[0mloss_temp\u001b[0m \u001b[1;33m=\u001b[0m \u001b[1;33m[\u001b[0m\u001b[1;33m]\u001b[0m \u001b[1;31m#empty list to store losses for a given k\u001b[0m\u001b[1;33m\u001b[0m\u001b[0m\n",
      "\u001b[1;32mC:\\Users\\leope\\Desktop\\project_1_final\\implementations.py\u001b[0m in \u001b[0;36msplit_data_cross\u001b[1;34m(y, phi, k, k_indices, degree, seed)\u001b[0m\n\u001b[0;32m    392\u001b[0m     \u001b[0my_test\u001b[0m\u001b[1;33m,\u001b[0m \u001b[0mphi_test\u001b[0m \u001b[1;33m=\u001b[0m \u001b[1;33m(\u001b[0m\u001b[0my\u001b[0m\u001b[1;33m[\u001b[0m\u001b[0mk_indices\u001b[0m\u001b[1;33m[\u001b[0m\u001b[0mk\u001b[0m\u001b[1;33m]\u001b[0m\u001b[1;33m]\u001b[0m\u001b[1;33m,\u001b[0m\u001b[0mphi\u001b[0m\u001b[1;33m[\u001b[0m\u001b[0mk_indices\u001b[0m\u001b[1;33m[\u001b[0m\u001b[0mk\u001b[0m\u001b[1;33m]\u001b[0m\u001b[1;33m,\u001b[0m\u001b[1;33m:\u001b[0m\u001b[1;33m]\u001b[0m\u001b[1;33m)\u001b[0m\u001b[1;33m\u001b[0m\u001b[0m\n\u001b[0;32m    393\u001b[0m \u001b[1;33m\u001b[0m\u001b[0m\n\u001b[1;32m--> 394\u001b[1;33m     \u001b[0mnot_k\u001b[0m \u001b[1;33m=\u001b[0m \u001b[1;33m[\u001b[0m\u001b[0mi\u001b[0m \u001b[1;32mfor\u001b[0m \u001b[0mi\u001b[0m\u001b[1;33m,\u001b[0m\u001b[0mitem\u001b[0m \u001b[1;32min\u001b[0m \u001b[0menumerate\u001b[0m\u001b[1;33m(\u001b[0m\u001b[0my\u001b[0m\u001b[1;33m)\u001b[0m \u001b[1;32mif\u001b[0m \u001b[0mi\u001b[0m \u001b[1;32mnot\u001b[0m \u001b[1;32min\u001b[0m \u001b[0mk_indices\u001b[0m\u001b[1;33m[\u001b[0m\u001b[0mk\u001b[0m\u001b[1;33m]\u001b[0m\u001b[1;33m]\u001b[0m\u001b[1;33m\u001b[0m\u001b[0m\n\u001b[0m\u001b[0;32m    395\u001b[0m     \u001b[0my_train\u001b[0m \u001b[1;33m=\u001b[0m \u001b[0my\u001b[0m\u001b[1;33m[\u001b[0m\u001b[0mnot_k\u001b[0m\u001b[1;33m]\u001b[0m\u001b[1;33m\u001b[0m\u001b[0m\n\u001b[0;32m    396\u001b[0m     \u001b[0mphi_train\u001b[0m \u001b[1;33m=\u001b[0m \u001b[0mphi\u001b[0m\u001b[1;33m[\u001b[0m\u001b[0mnot_k\u001b[0m\u001b[1;33m,\u001b[0m\u001b[1;33m:\u001b[0m\u001b[1;33m]\u001b[0m\u001b[1;33m\u001b[0m\u001b[0m\n",
      "\u001b[1;32mC:\\Users\\leope\\Desktop\\project_1_final\\implementations.py\u001b[0m in \u001b[0;36m<listcomp>\u001b[1;34m(.0)\u001b[0m\n\u001b[0;32m    392\u001b[0m     \u001b[0my_test\u001b[0m\u001b[1;33m,\u001b[0m \u001b[0mphi_test\u001b[0m \u001b[1;33m=\u001b[0m \u001b[1;33m(\u001b[0m\u001b[0my\u001b[0m\u001b[1;33m[\u001b[0m\u001b[0mk_indices\u001b[0m\u001b[1;33m[\u001b[0m\u001b[0mk\u001b[0m\u001b[1;33m]\u001b[0m\u001b[1;33m]\u001b[0m\u001b[1;33m,\u001b[0m\u001b[0mphi\u001b[0m\u001b[1;33m[\u001b[0m\u001b[0mk_indices\u001b[0m\u001b[1;33m[\u001b[0m\u001b[0mk\u001b[0m\u001b[1;33m]\u001b[0m\u001b[1;33m,\u001b[0m\u001b[1;33m:\u001b[0m\u001b[1;33m]\u001b[0m\u001b[1;33m)\u001b[0m\u001b[1;33m\u001b[0m\u001b[0m\n\u001b[0;32m    393\u001b[0m \u001b[1;33m\u001b[0m\u001b[0m\n\u001b[1;32m--> 394\u001b[1;33m     \u001b[0mnot_k\u001b[0m \u001b[1;33m=\u001b[0m \u001b[1;33m[\u001b[0m\u001b[0mi\u001b[0m \u001b[1;32mfor\u001b[0m \u001b[0mi\u001b[0m\u001b[1;33m,\u001b[0m\u001b[0mitem\u001b[0m \u001b[1;32min\u001b[0m \u001b[0menumerate\u001b[0m\u001b[1;33m(\u001b[0m\u001b[0my\u001b[0m\u001b[1;33m)\u001b[0m \u001b[1;32mif\u001b[0m \u001b[0mi\u001b[0m \u001b[1;32mnot\u001b[0m \u001b[1;32min\u001b[0m \u001b[0mk_indices\u001b[0m\u001b[1;33m[\u001b[0m\u001b[0mk\u001b[0m\u001b[1;33m]\u001b[0m\u001b[1;33m]\u001b[0m\u001b[1;33m\u001b[0m\u001b[0m\n\u001b[0m\u001b[0;32m    395\u001b[0m     \u001b[0my_train\u001b[0m \u001b[1;33m=\u001b[0m \u001b[0my\u001b[0m\u001b[1;33m[\u001b[0m\u001b[0mnot_k\u001b[0m\u001b[1;33m]\u001b[0m\u001b[1;33m\u001b[0m\u001b[0m\n\u001b[0;32m    396\u001b[0m     \u001b[0mphi_train\u001b[0m \u001b[1;33m=\u001b[0m \u001b[0mphi\u001b[0m\u001b[1;33m[\u001b[0m\u001b[0mnot_k\u001b[0m\u001b[1;33m,\u001b[0m\u001b[1;33m:\u001b[0m\u001b[1;33m]\u001b[0m\u001b[1;33m\u001b[0m\u001b[0m\n",
      "\u001b[1;31mKeyboardInterrupt\u001b[0m: "
     ]
    }
   ],
   "source": [
    "'''Define values to perform Ridge regression with cross validation of the dataset'''\n",
    "\n",
    "k_fold = 4 #define the number of folds\n",
    "degree = 12 #define the degree\n",
    "lambdas = np.logspace(-5,10,10) #define the lambdas\n",
    "seed = 1 #seed for the random splitting\n",
    "\n",
    "cross_validation_ridge(y, x, k_fold, degree, lambdas, seed)"
   ]
  },
  {
   "cell_type": "code",
   "execution_count": 27,
   "metadata": {
    "collapsed": false
   },
   "outputs": [
    {
     "ename": "NameError",
     "evalue": "name 'y_train' is not defined",
     "output_type": "error",
     "traceback": [
      "\u001b[0;31m---------------------------------------------------------------------------\u001b[0m",
      "\u001b[0;31mNameError\u001b[0m                                 Traceback (most recent call last)",
      "\u001b[0;32m<ipython-input-27-fb2f7859829f>\u001b[0m in \u001b[0;36m<module>\u001b[0;34m()\u001b[0m\n\u001b[1;32m      1\u001b[0m \u001b[0;34m'''Define values to perform logistic regression with cross validation of the dataset'''\u001b[0m\u001b[0;34m\u001b[0m\u001b[0m\n\u001b[1;32m      2\u001b[0m \u001b[0;34m\u001b[0m\u001b[0m\n\u001b[0;32m----> 3\u001b[0;31m \u001b[0my\u001b[0m \u001b[0;34m=\u001b[0m \u001b[0;34m[\u001b[0m\u001b[0;36m0\u001b[0m \u001b[0;32mif\u001b[0m \u001b[0mt\u001b[0m \u001b[0;34m==\u001b[0m \u001b[0;34m-\u001b[0m\u001b[0;36m1\u001b[0m \u001b[0;32melse\u001b[0m \u001b[0mt\u001b[0m \u001b[0;32mfor\u001b[0m \u001b[0mt\u001b[0m \u001b[0;32min\u001b[0m \u001b[0my_train\u001b[0m\u001b[0;34m]\u001b[0m\u001b[0;34m\u001b[0m\u001b[0m\n\u001b[0m\u001b[1;32m      4\u001b[0m \u001b[0;34m\u001b[0m\u001b[0m\n\u001b[1;32m      5\u001b[0m \u001b[0mk_fold\u001b[0m \u001b[0;34m=\u001b[0m \u001b[0;36m4\u001b[0m \u001b[0;31m#define the number of folds\u001b[0m\u001b[0;34m\u001b[0m\u001b[0m\n",
      "\u001b[0;31mNameError\u001b[0m: name 'y_train' is not defined"
     ]
    }
   ],
   "source": [
    "'''Define values to perform logistic regression with cross validation of the dataset'''\n",
    "\n",
    "y = [0 if t == -1 else t for t in y_train]\n",
    "\n",
    "k_fold = 4 #define the number of folds\n",
    "degree = 12 #define the degree\n",
    "lambdas = np.logspace(-5,1,10) #define the lambdas\n",
    "seed = 1 #seed for the random splitting\n",
    "\n",
    "cross_validation_logistic(y, x, k_fold, degree, lambdas, seed)"
   ]
  },
  {
   "cell_type": "code",
   "execution_count": null,
   "metadata": {
    "collapsed": true
   },
   "outputs": [],
   "source": [
    "create_submission(x_submission, degree, ids_submission)"
   ]
  }
 ],
 "metadata": {
  "kernelspec": {
   "display_name": "Python 3",
   "language": "python",
   "name": "python3"
  },
  "language_info": {
   "codemirror_mode": {
    "name": "ipython",
    "version": 3
   },
   "file_extension": ".py",
   "mimetype": "text/x-python",
   "name": "python",
   "nbconvert_exporter": "python",
   "pygments_lexer": "ipython3",
   "version": "3.4.4"
  },
  "widgets": {
   "state": {},
   "version": "1.1.2"
  }
 },
 "nbformat": 4,
 "nbformat_minor": 2
}
